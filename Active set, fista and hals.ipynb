{
 "cells": [
  {
   "cell_type": "code",
   "execution_count": 1,
   "metadata": {},
   "outputs": [],
   "source": [
    "from tensorly.tenalg.proximal import active_set_nnls, hals_nnls\n",
    "from fista_edit import *\n",
    "import numpy as np\n",
    "import tensorly as tl\n",
    "from tensorly.decomposition._cp import initialize_cp\n",
    "from tensorly.metrics.regression import RMSE"
   ]
  },
  {
   "cell_type": "code",
   "execution_count": 2,
   "metadata": {},
   "outputs": [
    {
     "name": "stdout",
     "output_type": "stream",
     "text": [
      "[[0. 3. 0. 5. 6. 2. 1. 1. 5. 2.]\n",
      " [3. 3. 7. 6. 2. 6. 0. 4. 6. 2.]\n",
      " [0. 7. 0. 0. 0. 6. 3. 5. 2. 6.]\n",
      " [5. 1. 5. 7. 6. 3. 2. 7. 4. 1.]\n",
      " [2. 6. 3. 0. 2. 3. 6. 7. 5. 3.]\n",
      " [2. 2. 7. 6. 2. 2. 0. 2. 6. 7.]\n",
      " [0. 7. 2. 7. 7. 7. 7. 6. 1. 0.]\n",
      " [1. 7. 1. 5. 2. 4. 7. 2. 1. 6.]\n",
      " [2. 5. 0. 1. 4. 5. 0. 3. 0. 5.]\n",
      " [0. 4. 1. 3. 4. 1. 6. 1. 3. 0.]]\n",
      "[[1]\n",
      " [6]\n",
      " [5]\n",
      " [4]\n",
      " [4]\n",
      " [7]\n",
      " [3]\n",
      " [4]\n",
      " [4]\n",
      " [7]]\n"
     ]
    }
   ],
   "source": [
    "array=np.random.randint(8, size=(10,10))\n",
    "a=tl.tensor(array,dtype=float)\n",
    "b=tl.tensor(np.random.randint(8, size=(10,1)))\n",
    "\n",
    "atb = tl.dot(tl.transpose(a),b)\n",
    "ata = tl.dot(tl.transpose(a),a)\n",
    "\n",
    "print(a)\n",
    "print(b)\n"
   ]
  },
  {
   "cell_type": "markdown",
   "metadata": {},
   "source": [
    "# Tl.solve"
   ]
  },
  {
   "cell_type": "code",
   "execution_count": 3,
   "metadata": {},
   "outputs": [
    {
     "name": "stdout",
     "output_type": "stream",
     "text": [
      "[[1.]\n",
      " [6.]\n",
      " [5.]\n",
      " [4.]\n",
      " [4.]\n",
      " [7.]\n",
      " [3.]\n",
      " [4.]\n",
      " [4.]\n",
      " [7.]]\n"
     ]
    }
   ],
   "source": [
    "x = tl.solve(a,b)\n",
    "print(tl.dot(a,x))"
   ]
  },
  {
   "cell_type": "markdown",
   "metadata": {},
   "source": [
    "# Fista"
   ]
  },
  {
   "cell_type": "code",
   "execution_count": 4,
   "metadata": {},
   "outputs": [
    {
     "name": "stdout",
     "output_type": "stream",
     "text": [
      "[[2.43961375]\n",
      " [5.74485499]\n",
      " [4.1863105 ]\n",
      " [3.99172202]\n",
      " [5.53569901]\n",
      " [6.6805027 ]\n",
      " [4.2008232 ]\n",
      " [5.06722536]\n",
      " [2.74950168]\n",
      " [2.98791273]]\n"
     ]
    }
   ],
   "source": [
    "x = fista(atb, ata,lr=0.001, n_iter_max=1000,  tol=10e-8)\n",
    "print(tl.dot(a,x))"
   ]
  },
  {
   "cell_type": "markdown",
   "metadata": {},
   "source": [
    "# Active set"
   ]
  },
  {
   "cell_type": "code",
   "execution_count": 5,
   "metadata": {},
   "outputs": [
    {
     "name": "stdout",
     "output_type": "stream",
     "text": [
      "[[2.43961256]\n",
      " [5.744855  ]\n",
      " [4.18631007]\n",
      " [3.99172251]\n",
      " [5.53569843]\n",
      " [6.68050304]\n",
      " [4.20082389]\n",
      " [5.06722578]\n",
      " [2.74950214]\n",
      " [2.98791231]]\n"
     ]
    }
   ],
   "source": [
    "x = active_set_nnls(tl.base.tensor_to_vec(atb), ata)\n",
    "x=tl.reshape(x,tl.shape(atb))\n",
    "print(tl.dot(a,x))"
   ]
  },
  {
   "cell_type": "markdown",
   "metadata": {},
   "source": [
    "# HALS"
   ]
  },
  {
   "cell_type": "code",
   "execution_count": 6,
   "metadata": {},
   "outputs": [
    {
     "name": "stdout",
     "output_type": "stream",
     "text": [
      "[[2.08662331]\n",
      " [6.20975577]\n",
      " [4.24870621]\n",
      " [5.65047253]\n",
      " [6.06227086]\n",
      " [4.97437373]\n",
      " [4.75240479]\n",
      " [5.14471297]\n",
      " [4.27776511]\n",
      " [2.8305381 ]]\n"
     ]
    }
   ],
   "source": [
    "xinit=tl.zeros(tl.shape(atb))\n",
    "x = hals_nnls(atb, ata, V=xinit)[0]\n",
    "print(tl.dot(a,x))"
   ]
  },
  {
   "cell_type": "code",
   "execution_count": null,
   "metadata": {},
   "outputs": [],
   "source": []
  }
 ],
 "metadata": {
  "kernelspec": {
   "display_name": "Python 3",
   "language": "python",
   "name": "python3"
  },
  "language_info": {
   "codemirror_mode": {
    "name": "ipython",
    "version": 3
   },
   "file_extension": ".py",
   "mimetype": "text/x-python",
   "name": "python",
   "nbconvert_exporter": "python",
   "pygments_lexer": "ipython3",
   "version": "3.8.7"
  }
 },
 "nbformat": 4,
 "nbformat_minor": 4
}
