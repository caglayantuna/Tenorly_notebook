{
 "cells": [
  {
   "cell_type": "code",
   "execution_count": 1,
   "metadata": {},
   "outputs": [],
   "source": [
    "from tensorly.tenalg.proximal import active_set_nnls, hals_nnls, fista\n",
    "import numpy as np\n",
    "import tensorly as tl\n",
    "from tensorly.decomposition._cp import initialize_cp\n",
    "from tensorly.metrics.regression import RMSE"
   ]
  },
  {
   "cell_type": "code",
   "execution_count": 2,
   "metadata": {},
   "outputs": [],
   "source": [
    "array=np.random.randint(50, size=(100,100))\n",
    "a=tl.tensor(array,dtype=float)\n",
    "x=tl.tensor(np.random.randint(50, size=(100,1)))\n",
    "b=tl.dot(a,x)\n",
    "\n",
    "atb = tl.dot(tl.transpose(a),b)\n",
    "ata = tl.dot(tl.transpose(a),a)\n",
    "\n",
    "#print(a)\n",
    "#print(b)\n"
   ]
  },
  {
   "cell_type": "markdown",
   "metadata": {},
   "source": [
    "# Tl.solve"
   ]
  },
  {
   "cell_type": "code",
   "execution_count": 3,
   "metadata": {},
   "outputs": [],
   "source": [
    "x_solve = tl.solve(a,b)\n",
    "#print(tl.dot(a,x_solve))"
   ]
  },
  {
   "cell_type": "markdown",
   "metadata": {},
   "source": [
    "# Fista"
   ]
  },
  {
   "cell_type": "code",
   "execution_count": 4,
   "metadata": {},
   "outputs": [],
   "source": [
    "x_fista = fista(atb, ata,lr=10e-8, tol=10e-16, n_iter_max=1000)\n",
    "#print(tl.dot(a,x_fista))"
   ]
  },
  {
   "cell_type": "markdown",
   "metadata": {},
   "source": [
    "# Active set"
   ]
  },
  {
   "cell_type": "code",
   "execution_count": 5,
   "metadata": {},
   "outputs": [],
   "source": [
    "x = active_set_nnls(tl.base.tensor_to_vec(atb), ata)\n",
    "x_as=tl.reshape(x,tl.shape(atb))\n",
    "#print(tl.dot(a,x_as))"
   ]
  },
  {
   "cell_type": "markdown",
   "metadata": {},
   "source": [
    "# HALS"
   ]
  },
  {
   "cell_type": "code",
   "execution_count": 6,
   "metadata": {},
   "outputs": [],
   "source": [
    "xinit=tl.zeros(tl.shape(atb))\n",
    "x_hals = hals_nnls(atb, ata, V=xinit, exact=True)[0]\n",
    "#print(tl.dot(a,x_hals))"
   ]
  },
  {
   "cell_type": "code",
   "execution_count": 7,
   "metadata": {},
   "outputs": [
    {
     "name": "stdout",
     "output_type": "stream",
     "text": [
      "1.0002787956085755e-11\n",
      "6.552123087922114\n",
      "4.626911369060664\n",
      "4.617380638322139\n"
     ]
    }
   ],
   "source": [
    "print(RMSE(b, tl.dot(a,x_solve)))\n",
    "print(RMSE(b, tl.dot(a,x_fista)))\n",
    "print(RMSE(b, tl.dot(a,x_as)))\n",
    "print(RMSE(b, tl.dot(a,x_hals)))"
   ]
  },
  {
   "cell_type": "code",
   "execution_count": 8,
   "metadata": {},
   "outputs": [
    {
     "name": "stdout",
     "output_type": "stream",
     "text": [
      "20.758273013801563\n",
      "20.76046257547398\n",
      "20.791378926553797\n",
      "20.762868541437555\n"
     ]
    }
   ],
   "source": [
    "print(RMSE(x, x_solve))\n",
    "print(RMSE(x, x_fista))\n",
    "print(RMSE(x, x_as))\n",
    "print(RMSE(x, x_hals))"
   ]
  },
  {
   "cell_type": "code",
   "execution_count": null,
   "metadata": {},
   "outputs": [],
   "source": []
  }
 ],
 "metadata": {
  "kernelspec": {
   "display_name": "Python 3",
   "language": "python",
   "name": "python3"
  },
  "language_info": {
   "codemirror_mode": {
    "name": "ipython",
    "version": 3
   },
   "file_extension": ".py",
   "mimetype": "text/x-python",
   "name": "python",
   "nbconvert_exporter": "python",
   "pygments_lexer": "ipython3",
   "version": "3.8.7"
  }
 },
 "nbformat": 4,
 "nbformat_minor": 4
}
