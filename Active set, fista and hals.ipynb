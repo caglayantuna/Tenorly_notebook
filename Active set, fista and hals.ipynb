{
 "cells": [
  {
   "cell_type": "code",
   "execution_count": 1,
   "metadata": {},
   "outputs": [],
   "source": [
    "from tensorly.tenalg.proximal import active_set_nnls, hals_nnls\n",
    "from fista_edit import *\n",
    "import numpy as np\n",
    "import tensorly as tl\n",
    "from tensorly.decomposition._cp import initialize_cp\n",
    "from tensorly.metrics.regression import RMSE"
   ]
  },
  {
   "cell_type": "code",
   "execution_count": 2,
   "metadata": {},
   "outputs": [
    {
     "name": "stdout",
     "output_type": "stream",
     "text": [
      "[[6. 1. 2. 3. 5. 7. 3. 6. 1. 6.]\n",
      " [1. 0. 2. 2. 1. 1. 3. 7. 1. 6.]\n",
      " [2. 0. 4. 2. 6. 6. 2. 0. 3. 4.]\n",
      " [7. 2. 0. 4. 0. 6. 7. 3. 7. 7.]\n",
      " [6. 2. 7. 5. 6. 7. 3. 5. 0. 1.]\n",
      " [1. 1. 7. 2. 5. 1. 1. 6. 4. 5.]\n",
      " [1. 2. 1. 5. 6. 4. 4. 2. 7. 4.]\n",
      " [3. 7. 4. 5. 7. 0. 3. 4. 1. 0.]\n",
      " [0. 3. 1. 3. 2. 0. 3. 4. 7. 2.]\n",
      " [7. 5. 4. 7. 7. 6. 2. 5. 1. 7.]]\n",
      "[[5]\n",
      " [3]\n",
      " [3]\n",
      " [4]\n",
      " [0]\n",
      " [4]\n",
      " [5]\n",
      " [2]\n",
      " [7]\n",
      " [0]]\n"
     ]
    }
   ],
   "source": [
    "array=np.random.randint(8, size=(10,10))\n",
    "a=tl.tensor(array,dtype=float)\n",
    "b=tl.tensor(np.random.randint(8, size=(10,1)))\n",
    "\n",
    "atb = tl.dot(tl.transpose(a),b)\n",
    "ata = tl.dot(tl.transpose(a),a)\n",
    "\n",
    "print(a)\n",
    "print(b)\n"
   ]
  },
  {
   "cell_type": "markdown",
   "metadata": {},
   "source": [
    "# Tl.solve"
   ]
  },
  {
   "cell_type": "code",
   "execution_count": 3,
   "metadata": {},
   "outputs": [
    {
     "name": "stdout",
     "output_type": "stream",
     "text": [
      "[[ 5.00000000e+00]\n",
      " [ 3.00000000e+00]\n",
      " [ 3.00000000e+00]\n",
      " [ 4.00000000e+00]\n",
      " [ 3.60822483e-16]\n",
      " [ 4.00000000e+00]\n",
      " [ 5.00000000e+00]\n",
      " [ 2.00000000e+00]\n",
      " [ 7.00000000e+00]\n",
      " [-8.88178420e-16]]\n"
     ]
    }
   ],
   "source": [
    "x = tl.solve(a,b)\n",
    "print(tl.dot(a,x))"
   ]
  },
  {
   "cell_type": "markdown",
   "metadata": {},
   "source": [
    "# Fista"
   ]
  },
  {
   "cell_type": "code",
   "execution_count": 45,
   "metadata": {},
   "outputs": [
    {
     "name": "stdout",
     "output_type": "stream",
     "text": [
      "[[2.35565352]\n",
      " [2.63822483]\n",
      " [1.98067712]\n",
      " [5.46929385]\n",
      " [1.41285651]\n",
      " [4.33633064]\n",
      " [5.18672255]\n",
      " [1.79051092]\n",
      " [5.75186516]\n",
      " [2.07308222]]\n"
     ]
    }
   ],
   "source": [
    "x = fista(atb, ata,lr=0.001, n_iter_max=1000,  tol=10e-8)\n",
    "print(tl.dot(a,x))"
   ]
  },
  {
   "cell_type": "markdown",
   "metadata": {},
   "source": [
    "# Active set"
   ]
  },
  {
   "cell_type": "code",
   "execution_count": 5,
   "metadata": {},
   "outputs": [
    {
     "name": "stdout",
     "output_type": "stream",
     "text": [
      "[[2.35565334]\n",
      " [2.6382246 ]\n",
      " [1.98067725]\n",
      " [5.46929405]\n",
      " [1.41285632]\n",
      " [4.33633059]\n",
      " [5.18672279]\n",
      " [1.79051081]\n",
      " [5.75186531]\n",
      " [2.07308207]]\n"
     ]
    }
   ],
   "source": [
    "x = active_set_nnls(tl.base.tensor_to_vec(atb), ata)\n",
    "x=tl.reshape(x,tl.shape(atb))\n",
    "print(tl.dot(a,x))"
   ]
  },
  {
   "cell_type": "markdown",
   "metadata": {},
   "source": [
    "# HALS"
   ]
  },
  {
   "cell_type": "code",
   "execution_count": 6,
   "metadata": {},
   "outputs": [
    {
     "name": "stdout",
     "output_type": "stream",
     "text": [
      "[[2.73062831]\n",
      " [2.42050683]\n",
      " [2.72314496]\n",
      " [5.97538906]\n",
      " [2.2795248 ]\n",
      " [3.44454677]\n",
      " [5.47291901]\n",
      " [2.71851998]\n",
      " [4.9361055 ]\n",
      " [2.49182795]]\n"
     ]
    }
   ],
   "source": [
    "xinit=tl.zeros(tl.shape(atb))\n",
    "x = hals_nnls(atb, ata, V=xinit)[0]\n",
    "print(tl.dot(a,x))"
   ]
  },
  {
   "cell_type": "code",
   "execution_count": null,
   "metadata": {},
   "outputs": [],
   "source": []
  }
 ],
 "metadata": {
  "kernelspec": {
   "display_name": "Python 3",
   "language": "python",
   "name": "python3"
  },
  "language_info": {
   "codemirror_mode": {
    "name": "ipython",
    "version": 3
   },
   "file_extension": ".py",
   "mimetype": "text/x-python",
   "name": "python",
   "nbconvert_exporter": "python",
   "pygments_lexer": "ipython3",
   "version": "3.8.7"
  }
 },
 "nbformat": 4,
 "nbformat_minor": 4
}
