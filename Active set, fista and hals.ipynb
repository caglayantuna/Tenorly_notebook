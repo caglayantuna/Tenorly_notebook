{
 "cells": [
  {
   "cell_type": "code",
   "execution_count": 1,
   "metadata": {},
   "outputs": [],
   "source": [
    "from tensorly.tenalg.proximal import active_set_nnls, hals_nnls, fista\n",
    "import numpy as np\n",
    "import tensorly as tl\n",
    "from tensorly.decomposition._cp import initialize_cp\n",
    "from tensorly.metrics.regression import RMSE"
   ]
  },
  {
   "cell_type": "code",
   "execution_count": 2,
   "metadata": {},
   "outputs": [],
   "source": [
    "array=np.random.randint(50, size=(100,100))\n",
    "a=tl.tensor(array,dtype=float)\n",
    "b=tl.tensor(np.random.randint(50, size=(100,1)))\n",
    "\n",
    "atb = tl.dot(tl.transpose(a),b)\n",
    "ata = tl.dot(tl.transpose(a),a)\n",
    "\n",
    "#print(a)\n",
    "#print(b)\n"
   ]
  },
  {
   "cell_type": "markdown",
   "metadata": {},
   "source": [
    "# Tl.solve"
   ]
  },
  {
   "cell_type": "code",
   "execution_count": 3,
   "metadata": {},
   "outputs": [],
   "source": [
    "x_solve = tl.solve(a,b)\n",
    "#print(tl.dot(a,x_solve))"
   ]
  },
  {
   "cell_type": "markdown",
   "metadata": {},
   "source": [
    "# Fista"
   ]
  },
  {
   "cell_type": "code",
   "execution_count": 4,
   "metadata": {},
   "outputs": [],
   "source": [
    "x_fista = fista(atb, ata,lr=10e-8, tol=10e-8)\n",
    "#print(tl.dot(a,x_fista))"
   ]
  },
  {
   "cell_type": "markdown",
   "metadata": {},
   "source": [
    "# Active set"
   ]
  },
  {
   "cell_type": "code",
   "execution_count": 5,
   "metadata": {},
   "outputs": [],
   "source": [
    "x = active_set_nnls(tl.base.tensor_to_vec(atb), ata)\n",
    "x_as=tl.reshape(x,tl.shape(atb))\n",
    "#print(tl.dot(a,x_as))"
   ]
  },
  {
   "cell_type": "markdown",
   "metadata": {},
   "source": [
    "# HALS"
   ]
  },
  {
   "cell_type": "code",
   "execution_count": 6,
   "metadata": {},
   "outputs": [],
   "source": [
    "xinit=tl.zeros(tl.shape(atb))\n",
    "x_hals = hals_nnls(atb, ata, V=xinit, exact=True)[0]\n",
    "#print(tl.dot(a,x_hals))"
   ]
  },
  {
   "cell_type": "code",
   "execution_count": 7,
   "metadata": {},
   "outputs": [
    {
     "name": "stdout",
     "output_type": "stream",
     "text": [
      "4.1788718193630736e-13\n",
      "11.62873694032554\n",
      "11.61612549999343\n",
      "11.61612549999343\n"
     ]
    }
   ],
   "source": [
    "print(RMSE(b, tl.dot(a,x_solve)))\n",
    "print(RMSE(b, tl.dot(a,x_fista)))\n",
    "print(RMSE(b, tl.dot(a,x_as)))\n",
    "print(RMSE(b, tl.dot(a,x_hals)))"
   ]
  },
  {
   "cell_type": "code",
   "execution_count": null,
   "metadata": {},
   "outputs": [],
   "source": []
  }
 ],
 "metadata": {
  "kernelspec": {
   "display_name": "Python 3",
   "language": "python",
   "name": "python3"
  },
  "language_info": {
   "codemirror_mode": {
    "name": "ipython",
    "version": 3
   },
   "file_extension": ".py",
   "mimetype": "text/x-python",
   "name": "python",
   "nbconvert_exporter": "python",
   "pygments_lexer": "ipython3",
   "version": "3.8.7"
  }
 },
 "nbformat": 4,
 "nbformat_minor": 4
}
