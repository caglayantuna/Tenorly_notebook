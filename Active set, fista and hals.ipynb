{
 "cells": [
  {
   "cell_type": "code",
   "execution_count": 1,
   "metadata": {},
   "outputs": [],
   "source": [
    "from tensorly.tenalg.proximal import active_set_nnls, hals_nnls, fista\n",
    "import numpy as np\n",
    "import tensorly as tl\n",
    "from tensorly.decomposition._cp import initialize_cp\n",
    "from tensorly.metrics.regression import RMSE"
   ]
  },
  {
   "cell_type": "code",
   "execution_count": 2,
   "metadata": {},
   "outputs": [
    {
     "name": "stdout",
     "output_type": "stream",
     "text": [
      "[[4. 3. 4. 0. 6. 7. 6. 4. 4. 1. 3. 5. 3. 4. 7. 2. 7. 5. 1. 0.]\n",
      " [4. 1. 6. 6. 7. 5. 5. 6. 2. 0. 0. 1. 4. 1. 5. 6. 1. 3. 5. 1.]\n",
      " [3. 1. 6. 6. 4. 6. 5. 7. 5. 7. 4. 4. 1. 7. 0. 2. 5. 0. 7. 2.]\n",
      " [0. 4. 1. 6. 7. 1. 2. 3. 3. 5. 5. 7. 7. 4. 1. 1. 6. 0. 4. 6.]\n",
      " [5. 0. 6. 4. 0. 1. 7. 3. 3. 7. 4. 4. 4. 3. 6. 2. 7. 1. 7. 2.]\n",
      " [1. 1. 2. 4. 5. 6. 2. 1. 0. 5. 4. 5. 6. 3. 0. 0. 5. 2. 4. 4.]\n",
      " [1. 0. 1. 3. 6. 1. 1. 1. 0. 3. 5. 2. 2. 0. 1. 4. 7. 3. 2. 4.]\n",
      " [7. 3. 5. 2. 3. 5. 6. 4. 7. 7. 4. 7. 3. 6. 5. 5. 3. 5. 1. 4.]\n",
      " [0. 0. 6. 5. 1. 0. 4. 5. 0. 0. 0. 1. 0. 4. 4. 5. 7. 6. 4. 4.]\n",
      " [5. 7. 2. 3. 3. 5. 7. 0. 2. 6. 7. 1. 7. 7. 1. 7. 4. 1. 7. 1.]\n",
      " [0. 5. 2. 2. 6. 1. 6. 3. 6. 3. 1. 3. 2. 1. 0. 4. 5. 1. 6. 6.]\n",
      " [6. 7. 3. 4. 6. 1. 6. 1. 3. 4. 5. 6. 1. 6. 1. 1. 7. 7. 1. 7.]\n",
      " [4. 7. 5. 2. 3. 7. 0. 2. 1. 4. 4. 0. 2. 6. 2. 3. 6. 4. 6. 7.]\n",
      " [0. 3. 7. 6. 7. 2. 7. 0. 2. 4. 5. 5. 4. 3. 1. 3. 3. 3. 7. 1.]\n",
      " [5. 0. 5. 2. 5. 2. 5. 7. 4. 4. 0. 5. 0. 4. 4. 2. 2. 6. 4. 4.]\n",
      " [0. 4. 0. 0. 2. 1. 4. 0. 1. 4. 4. 7. 4. 7. 4. 4. 3. 5. 7. 1.]\n",
      " [6. 4. 3. 7. 4. 0. 7. 1. 4. 5. 3. 6. 4. 7. 4. 5. 3. 1. 3. 4.]\n",
      " [0. 5. 4. 6. 4. 1. 7. 3. 6. 0. 3. 4. 2. 7. 3. 3. 1. 7. 4. 6.]\n",
      " [5. 0. 6. 7. 1. 2. 3. 0. 3. 3. 0. 2. 4. 2. 0. 5. 3. 4. 0. 2.]\n",
      " [1. 4. 1. 2. 4. 3. 6. 2. 4. 1. 3. 4. 3. 0. 5. 7. 6. 1. 7. 7.]]\n",
      "[[5]\n",
      " [5]\n",
      " [7]\n",
      " [2]\n",
      " [5]\n",
      " [6]\n",
      " [0]\n",
      " [5]\n",
      " [7]\n",
      " [5]\n",
      " [3]\n",
      " [3]\n",
      " [2]\n",
      " [5]\n",
      " [4]\n",
      " [0]\n",
      " [5]\n",
      " [1]\n",
      " [1]\n",
      " [3]]\n"
     ]
    }
   ],
   "source": [
    "array=np.random.randint(8, size=(20,20))\n",
    "a=tl.tensor(array,dtype=float)\n",
    "b=tl.tensor(np.random.randint(8, size=(20,1)))\n",
    "\n",
    "atb = tl.dot(tl.transpose(a),b)\n",
    "ata = tl.dot(tl.transpose(a),a)\n",
    "\n",
    "print(a)\n",
    "print(b)\n"
   ]
  },
  {
   "cell_type": "markdown",
   "metadata": {},
   "source": [
    "# Tl.solve"
   ]
  },
  {
   "cell_type": "code",
   "execution_count": 3,
   "metadata": {},
   "outputs": [
    {
     "name": "stdout",
     "output_type": "stream",
     "text": [
      "[[ 5.00000000e+00]\n",
      " [ 5.00000000e+00]\n",
      " [ 7.00000000e+00]\n",
      " [ 2.00000000e+00]\n",
      " [ 5.00000000e+00]\n",
      " [ 6.00000000e+00]\n",
      " [ 1.77635684e-15]\n",
      " [ 5.00000000e+00]\n",
      " [ 7.00000000e+00]\n",
      " [ 5.00000000e+00]\n",
      " [ 3.00000000e+00]\n",
      " [ 3.00000000e+00]\n",
      " [ 2.00000000e+00]\n",
      " [ 5.00000000e+00]\n",
      " [ 4.00000000e+00]\n",
      " [-1.77635684e-15]\n",
      " [ 5.00000000e+00]\n",
      " [ 1.00000000e+00]\n",
      " [ 1.00000000e+00]\n",
      " [ 3.00000000e+00]]\n"
     ]
    }
   ],
   "source": [
    "x = tl.solve(a,b)\n",
    "print(tl.dot(a,x))"
   ]
  },
  {
   "cell_type": "markdown",
   "metadata": {},
   "source": [
    "# Fista"
   ]
  },
  {
   "cell_type": "code",
   "execution_count": 4,
   "metadata": {},
   "outputs": [
    {
     "name": "stdout",
     "output_type": "stream",
     "text": [
      "[[4.98581796]\n",
      " [5.11705004]\n",
      " [6.46735995]\n",
      " [2.88813774]\n",
      " [4.85845064]\n",
      " [3.35030801]\n",
      " [1.84399303]\n",
      " [5.10283276]\n",
      " [3.99093513]\n",
      " [3.89963766]\n",
      " [3.35177961]\n",
      " [3.40346299]\n",
      " [3.69601331]\n",
      " [4.07827292]\n",
      " [4.6899112 ]\n",
      " [1.62890103]\n",
      " [3.43226608]\n",
      " [3.64778785]\n",
      " [3.05097097]\n",
      " [3.25698771]]\n"
     ]
    }
   ],
   "source": [
    "x = fista(atb, ata,lr=0.0001, tol=10e-8)\n",
    "print(tl.dot(a,x))"
   ]
  },
  {
   "cell_type": "markdown",
   "metadata": {},
   "source": [
    "# Active set"
   ]
  },
  {
   "cell_type": "code",
   "execution_count": 5,
   "metadata": {},
   "outputs": [
    {
     "name": "stdout",
     "output_type": "stream",
     "text": [
      "[[4.99138904]\n",
      " [5.08356897]\n",
      " [6.4431456 ]\n",
      " [2.85647383]\n",
      " [4.88905662]\n",
      " [3.32414584]\n",
      " [1.825592  ]\n",
      " [5.12620704]\n",
      " [3.97142102]\n",
      " [3.92443988]\n",
      " [3.3719856 ]\n",
      " [3.41840611]\n",
      " [3.66599174]\n",
      " [4.0985003 ]\n",
      " [4.70055432]\n",
      " [1.66011731]\n",
      " [3.44425115]\n",
      " [3.64681752]\n",
      " [3.0326106 ]\n",
      " [3.263909  ]]\n"
     ]
    }
   ],
   "source": [
    "x = active_set_nnls(tl.base.tensor_to_vec(atb), ata)\n",
    "x=tl.reshape(x,tl.shape(atb))\n",
    "print(tl.dot(a,x))"
   ]
  },
  {
   "cell_type": "markdown",
   "metadata": {},
   "source": [
    "# HALS"
   ]
  },
  {
   "cell_type": "code",
   "execution_count": 6,
   "metadata": {},
   "outputs": [
    {
     "name": "stdout",
     "output_type": "stream",
     "text": [
      "[[4.99138904]\n",
      " [5.08356897]\n",
      " [6.4431456 ]\n",
      " [2.85647383]\n",
      " [4.88905662]\n",
      " [3.32414584]\n",
      " [1.825592  ]\n",
      " [5.12620704]\n",
      " [3.97142102]\n",
      " [3.92443988]\n",
      " [3.3719856 ]\n",
      " [3.41840611]\n",
      " [3.66599174]\n",
      " [4.0985003 ]\n",
      " [4.70055432]\n",
      " [1.66011731]\n",
      " [3.44425115]\n",
      " [3.64681752]\n",
      " [3.0326106 ]\n",
      " [3.263909  ]]\n"
     ]
    }
   ],
   "source": [
    "xinit=tl.zeros(tl.shape(atb))\n",
    "x = hals_nnls(atb, ata, V=xinit, exact=True)[0]\n",
    "print(tl.dot(a,x))"
   ]
  },
  {
   "cell_type": "code",
   "execution_count": null,
   "metadata": {},
   "outputs": [],
   "source": []
  }
 ],
 "metadata": {
  "kernelspec": {
   "display_name": "Python 3",
   "language": "python",
   "name": "python3"
  },
  "language_info": {
   "codemirror_mode": {
    "name": "ipython",
    "version": 3
   },
   "file_extension": ".py",
   "mimetype": "text/x-python",
   "name": "python",
   "nbconvert_exporter": "python",
   "pygments_lexer": "ipython3",
   "version": "3.8.7"
  }
 },
 "nbformat": 4,
 "nbformat_minor": 4
}
