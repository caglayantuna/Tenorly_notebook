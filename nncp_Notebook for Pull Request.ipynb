{
 "cells": [
  {
   "cell_type": "code",
   "execution_count": 1,
   "metadata": {},
   "outputs": [
    {
     "name": "stdout",
     "output_type": "stream",
     "text": [
      "(100, 100, 3)\n"
     ]
    }
   ],
   "source": [
    "import scipy.io\n",
    "import tensorly as tl\n",
    "import time\n",
    "from tensorly.metrics.regression import RMSE\n",
    "from tensorly.decomposition._nn_cp import non_negative_parafac_hals, non_negative_parafac\n",
    "from scipy.misc import face\n",
    "from skimage.metrics import structural_similarity\n",
    "import matplotlib.pyplot as plt\n",
    "from tensorly.decomposition._cp import initialize_cp\n",
    "from tensorly.cp_tensor import CPTensor\n",
    "from tensorly.random import check_random_state, random_cp\n",
    "\n",
    "\n",
    "#image\n",
    "image = face()\n",
    "image = tl.tensor(image, dtype='float')[:100,:100,:]\n",
    "\n",
    "tensor=tl.tensor(image,dtype='float')\n",
    "#parameters\n",
    "init='svd'\n",
    "svd='numpy_svd'\n",
    "rank=25\n",
    "\n",
    "weightsinit, factorsinit = initialize_cp(tensor, rank, init=init, svd=svd,\n",
    "                                 random_state=None,\n",
    "                                 normalize_factors=False)\n",
    "\n",
    "cpinit=CPTensor((weightsinit,factorsinit))\n",
    "\n",
    "print(tensor.shape)\n"
   ]
  },
  {
   "cell_type": "markdown",
   "metadata": {},
   "source": [
    "# Tensorly Nonnegative Parafac"
   ]
  },
  {
   "cell_type": "code",
   "execution_count": 2,
   "metadata": {},
   "outputs": [],
   "source": [
    "tic = time.time()\n",
    "tensornon,errormu = non_negative_parafac(tensor, rank=rank, init=cpinit, tol=10e-8,return_errors=True)\n",
    "cp_reconstructionnon = tl.cp_to_tensor(tensornon)\n",
    "time_tensorlynon = time.time()-tic"
   ]
  },
  {
   "cell_type": "markdown",
   "metadata": {},
   "source": [
    "# Hals in Tensorly"
   ]
  },
  {
   "cell_type": "code",
   "execution_count": 3,
   "metadata": {},
   "outputs": [],
   "source": [
    "tic = time.time()\n",
    "tensornon,errorhals = non_negative_parafac_hals(tensor, rank=rank, init=cpinit, tol=10e-8,return_errors=True)\n",
    "cp_reconstruction_hals = tl.cp_to_tensor(tensornon)\n",
    "time_tensorlyhals = time.time()-tic"
   ]
  },
  {
   "cell_type": "markdown",
   "metadata": {},
   "source": [
    "# Comparison"
   ]
  },
  {
   "cell_type": "code",
   "execution_count": 4,
   "metadata": {},
   "outputs": [
    {
     "name": "stdout",
     "output_type": "stream",
     "text": [
      "time for tensorly noncp: 0.6973209381103516\n",
      "time for hals in tensorly: 1.9267687797546387\n",
      "RMSE tensorly ncp: 13.086929930394167\n",
      "RMSE Hals in tensorly: 8.484424123799169\n",
      "SSIM for each channel tensorly ncp: [0.85227917 0.84636123 0.86162555]\n",
      "SSIM for each channel tensorly hals: [0.94142336 0.93881047 0.94550702]\n"
     ]
    },
    {
     "data": {
      "image/png": "[encoded data removed]",
      "text/plain": [
       "<Figure size 720x288 with 1 Axes>"
      ]
     },
     "metadata": {
      "needs_background": "light"
     },
     "output_type": "display_data"
    }
   ],
   "source": [
    "def calculate_error(im1, im2):\n",
    "    r, c, b = im1.shape\n",
    "    sim = tl.zeros(b)\n",
    "    rmse = tl.zeros(b)\n",
    "    for i in range(b):\n",
    "        sim[i] = structural_similarity(im1[:, :, i], im2[:, :, i])\n",
    "        rmse[i] = RMSE(im1[:, :, i], im2[:, :, i])\n",
    "    return sim, rmse\n",
    "def error_iteration(b,c):\n",
    "    fig=plt.figure()\n",
    "    fig.set_size_inches(10, fig.get_figheight(), forward=True)\n",
    "    plt.plot(b)\n",
    "    plt.plot(c)\n",
    "    plt.title('Error for each iteration')\n",
    "    plt.legend(['ncp', 'hals'], loc='upper left')\n",
    "print('time for tensorly noncp:'+' ' +str(time_tensorlynon))\n",
    "print('time for hals in tensorly:'+' ' +str(time_tensorlyhals))\n",
    "print('RMSE tensorly ncp:'+' ' +str(RMSE(tensor,cp_reconstructionnon)))\n",
    "print('RMSE Hals in tensorly:'+' ' +str(RMSE(tensor,cp_reconstruction_hals)))\n",
    "print('SSIM for each channel tensorly ncp:'+' ' +str(calculate_error(tensor,cp_reconstructionnon)[0]))\n",
    "print('SSIM for each channel tensorly hals:'+' ' +str(calculate_error(tensor,cp_reconstruction_hals)[0]))\n",
    "error_iteration(errormu,errorhals)"
   ]
  },
  {
   "cell_type": "markdown",
   "metadata": {},
   "source": [
    "# Change Backend to Tensorflow"
   ]
  },
  {
   "cell_type": "code",
   "execution_count": 5,
   "metadata": {},
   "outputs": [],
   "source": [
    "tl.set_backend('tensorflow')\n",
    "tensor=tl.tensor(image,dtype='float')"
   ]
  },
  {
   "cell_type": "markdown",
   "metadata": {},
   "source": [
    "# Tensorly Nonnegative Parafac"
   ]
  },
  {
   "cell_type": "code",
   "execution_count": null,
   "metadata": {},
   "outputs": [],
   "source": [
    "tic = time.time()\n",
    "tensornon,errormu = non_negative_parafac(tensor, rank=rank, init=init, tol=10e-8,return_errors=True)\n",
    "cp_reconstructionnon = tl.cp_to_tensor(tensornon)\n",
    "time_tensorlynon = time.time()-tic"
   ]
  },
  {
   "cell_type": "markdown",
   "metadata": {},
   "source": [
    "# Hals in Tensorly"
   ]
  },
  {
   "cell_type": "code",
   "execution_count": null,
   "metadata": {},
   "outputs": [],
   "source": [
    "tic = time.time()\n",
    "tensornon,errorhals = non_negative_parafac_hals(tensor, rank=rank, init=init, tol=10e-8,return_errors=True)\n",
    "cp_reconstruction_hals = tl.cp_to_tensor(tensornon)\n",
    "time_tensorlyhals = time.time()-tic"
   ]
  },
  {
   "cell_type": "markdown",
   "metadata": {},
   "source": [
    "# Comparison"
   ]
  },
  {
   "cell_type": "code",
   "execution_count": null,
   "metadata": {},
   "outputs": [],
   "source": [
    "print('time for tensorly noncp:'+' ' +str(time_tensorlynon))\n",
    "print('time for hals in tensorly:'+' ' +str(time_tensorlyhals))\n",
    "print('RMSE tensorly ncp:'+' ' +str(RMSE(tensor,cp_reconstructionnon)))\n",
    "print('RMSE Hals in tensorly:'+' ' +str(RMSE(tensor,cp_reconstruction_hals)))\n",
    "error_iteration(errormu,errorhals)"
   ]
  },
  {
   "cell_type": "code",
   "execution_count": null,
   "metadata": {},
   "outputs": [],
   "source": []
  }
 ],
 "metadata": {
  "kernelspec": {
   "display_name": "Python 3",
   "language": "python",
   "name": "python3"
  },
  "language_info": {
   "codemirror_mode": {
    "name": "ipython",
    "version": 3
   },
   "file_extension": ".py",
   "mimetype": "text/x-python",
   "name": "python",
   "nbconvert_exporter": "python",
   "pygments_lexer": "ipython3",
   "version": "3.8.6"
  }
 },
 "nbformat": 4,
 "nbformat_minor": 4
}
