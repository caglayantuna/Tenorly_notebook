{
 "cells": [
  {
   "cell_type": "code",
   "execution_count": 2,
   "metadata": {},
   "outputs": [
    {
     "ename": "MemoryError",
     "evalue": "Unable to allocate 60.3 GiB for an array with shape (90000, 90000) and data type float64",
     "output_type": "error",
     "traceback": [
      "\u001b[0;31m---------------------------------------------------------------------------\u001b[0m",
      "\u001b[0;31mMemoryError\u001b[0m                               Traceback (most recent call last)",
      "\u001b[0;32m<ipython-input-2-55f4c8c36e6e>\u001b[0m in \u001b[0;36m<module>\u001b[0;34m\u001b[0m\n\u001b[1;32m     27\u001b[0m \u001b[0mrank\u001b[0m\u001b[0;34m=\u001b[0m\u001b[0;36m25\u001b[0m\u001b[0;34m\u001b[0m\u001b[0;34m\u001b[0m\u001b[0m\n\u001b[1;32m     28\u001b[0m \u001b[0;34m\u001b[0m\u001b[0m\n\u001b[0;32m---> 29\u001b[0;31m weightsinit, factorsinit = initialize_cp(tensor, rank, init=init, svd=svd,\n\u001b[0m\u001b[1;32m     30\u001b[0m                                  \u001b[0mrandom_state\u001b[0m\u001b[0;34m=\u001b[0m\u001b[0;32mNone\u001b[0m\u001b[0;34m,\u001b[0m\u001b[0;34m\u001b[0m\u001b[0;34m\u001b[0m\u001b[0m\n\u001b[1;32m     31\u001b[0m                                  normalize_factors=False)\n",
      "\u001b[0;32m~/tensorly/tensorly/decomposition/_cp.py\u001b[0m in \u001b[0;36minitialize_cp\u001b[0;34m(tensor, rank, init, svd, random_state, normalize_factors)\u001b[0m\n\u001b[1;32m     56\u001b[0m         \u001b[0mfactors\u001b[0m \u001b[0;34m=\u001b[0m \u001b[0;34m[\u001b[0m\u001b[0;34m]\u001b[0m\u001b[0;34m\u001b[0m\u001b[0;34m\u001b[0m\u001b[0m\n\u001b[1;32m     57\u001b[0m         \u001b[0;32mfor\u001b[0m \u001b[0mmode\u001b[0m \u001b[0;32min\u001b[0m \u001b[0mrange\u001b[0m\u001b[0;34m(\u001b[0m\u001b[0mtl\u001b[0m\u001b[0;34m.\u001b[0m\u001b[0mndim\u001b[0m\u001b[0;34m(\u001b[0m\u001b[0mtensor\u001b[0m\u001b[0;34m)\u001b[0m\u001b[0;34m)\u001b[0m\u001b[0;34m:\u001b[0m\u001b[0;34m\u001b[0m\u001b[0;34m\u001b[0m\u001b[0m\n\u001b[0;32m---> 58\u001b[0;31m             \u001b[0mU\u001b[0m\u001b[0;34m,\u001b[0m \u001b[0mS\u001b[0m\u001b[0;34m,\u001b[0m \u001b[0m_\u001b[0m \u001b[0;34m=\u001b[0m \u001b[0msvd_fun\u001b[0m\u001b[0;34m(\u001b[0m\u001b[0munfold\u001b[0m\u001b[0;34m(\u001b[0m\u001b[0mtensor\u001b[0m\u001b[0;34m,\u001b[0m \u001b[0mmode\u001b[0m\u001b[0;34m)\u001b[0m\u001b[0;34m,\u001b[0m \u001b[0mn_eigenvecs\u001b[0m\u001b[0;34m=\u001b[0m\u001b[0mrank\u001b[0m\u001b[0;34m)\u001b[0m\u001b[0;34m\u001b[0m\u001b[0;34m\u001b[0m\u001b[0m\n\u001b[0m\u001b[1;32m     59\u001b[0m \u001b[0;34m\u001b[0m\u001b[0m\n\u001b[1;32m     60\u001b[0m             \u001b[0;31m# Put SVD initialization on the same scaling as the tensor in case normalize_factors=False\u001b[0m\u001b[0;34m\u001b[0m\u001b[0;34m\u001b[0m\u001b[0;34m\u001b[0m\u001b[0m\n",
      "\u001b[0;32m~/tensorly/tensorly/backend/core.py\u001b[0m in \u001b[0;36mpartial_svd\u001b[0;34m(self, matrix, n_eigenvecs, random_state, **kwargs)\u001b[0m\n\u001b[1;32m    799\u001b[0m             \u001b[0;32melse\u001b[0m\u001b[0;34m:\u001b[0m\u001b[0;34m\u001b[0m\u001b[0;34m\u001b[0m\u001b[0m\n\u001b[1;32m    800\u001b[0m                 \u001b[0mfull_matrices\u001b[0m\u001b[0;34m=\u001b[0m\u001b[0;32mFalse\u001b[0m\u001b[0;34m\u001b[0m\u001b[0;34m\u001b[0m\u001b[0m\n\u001b[0;32m--> 801\u001b[0;31m             \u001b[0mU\u001b[0m\u001b[0;34m,\u001b[0m \u001b[0mS\u001b[0m\u001b[0;34m,\u001b[0m \u001b[0mV\u001b[0m \u001b[0;34m=\u001b[0m \u001b[0mscipy\u001b[0m\u001b[0;34m.\u001b[0m\u001b[0mlinalg\u001b[0m\u001b[0;34m.\u001b[0m\u001b[0msvd\u001b[0m\u001b[0;34m(\u001b[0m\u001b[0mmatrix\u001b[0m\u001b[0;34m,\u001b[0m \u001b[0mfull_matrices\u001b[0m\u001b[0;34m=\u001b[0m\u001b[0mfull_matrices\u001b[0m\u001b[0;34m)\u001b[0m\u001b[0;34m\u001b[0m\u001b[0;34m\u001b[0m\u001b[0m\n\u001b[0m\u001b[1;32m    802\u001b[0m             \u001b[0mU\u001b[0m\u001b[0;34m,\u001b[0m \u001b[0mS\u001b[0m\u001b[0;34m,\u001b[0m \u001b[0mV\u001b[0m \u001b[0;34m=\u001b[0m \u001b[0mU\u001b[0m\u001b[0;34m[\u001b[0m\u001b[0;34m:\u001b[0m\u001b[0;34m,\u001b[0m \u001b[0;34m:\u001b[0m\u001b[0mn_eigenvecs\u001b[0m\u001b[0;34m]\u001b[0m\u001b[0;34m,\u001b[0m \u001b[0mS\u001b[0m\u001b[0;34m[\u001b[0m\u001b[0;34m:\u001b[0m\u001b[0mn_eigenvecs\u001b[0m\u001b[0;34m]\u001b[0m\u001b[0;34m,\u001b[0m \u001b[0mV\u001b[0m\u001b[0;34m[\u001b[0m\u001b[0;34m:\u001b[0m\u001b[0mn_eigenvecs\u001b[0m\u001b[0;34m,\u001b[0m \u001b[0;34m:\u001b[0m\u001b[0;34m]\u001b[0m\u001b[0;34m\u001b[0m\u001b[0;34m\u001b[0m\u001b[0m\n\u001b[1;32m    803\u001b[0m         \u001b[0;32melse\u001b[0m\u001b[0;34m:\u001b[0m\u001b[0;34m\u001b[0m\u001b[0;34m\u001b[0m\u001b[0m\n",
      "\u001b[0;32m/usr/lib64/python3.8/site-packages/scipy/linalg/decomp_svd.py\u001b[0m in \u001b[0;36msvd\u001b[0;34m(a, full_matrices, compute_uv, overwrite_a, check_finite, lapack_driver)\u001b[0m\n\u001b[1;32m    126\u001b[0m \u001b[0;34m\u001b[0m\u001b[0m\n\u001b[1;32m    127\u001b[0m     \u001b[0;31m# perform decomposition\u001b[0m\u001b[0;34m\u001b[0m\u001b[0;34m\u001b[0m\u001b[0;34m\u001b[0m\u001b[0m\n\u001b[0;32m--> 128\u001b[0;31m     u, s, v, info = gesXd(a1, compute_uv=compute_uv, lwork=lwork,\n\u001b[0m\u001b[1;32m    129\u001b[0m                           full_matrices=full_matrices, overwrite_a=overwrite_a)\n\u001b[1;32m    130\u001b[0m \u001b[0;34m\u001b[0m\u001b[0m\n",
      "\u001b[0;31mMemoryError\u001b[0m: Unable to allocate 60.3 GiB for an array with shape (90000, 90000) and data type float64"
     ]
    }
   ],
   "source": [
    "import scipy.io\n",
    "import tensorly as tl\n",
    "from tensorly.decomposition import parafac,non_negative_parafac\n",
    "import time\n",
    "from tensorly.metrics.regression import RMSE\n",
    "from tensorly.decomposition._nn_cp import CP_NN_HALS, non_negative_parafac_hals\n",
    "from scipy.misc import face\n",
    "from skimage.metrics import structural_similarity\n",
    "import matplotlib.pyplot as plt\n",
    "from tensorly.decomposition._cp import initialize_cp\n",
    "from tensorly.cp_tensor import CPTensor\n",
    "from tensorly.testing import assert_array_equal, assert_\n",
    "from tensorly.random import check_random_state, random_cp\n",
    "#image\n",
    "image = face()\n",
    "image = tl.tensor(image, dtype='float')[:300,:300,:]\n",
    "\n",
    "#hyperspectral image\n",
    "#mat = scipy.io.loadmat('../data/Indian_pines_corrected.mat')\n",
    "#image=mat['indian_pines_corrected']\n",
    "\n",
    "\n",
    "tensor=tl.tensor(image,dtype='float')\n",
    "#parameters\n",
    "init='svd'\n",
    "svd='numpy_svd'\n",
    "rank=25\n",
    "\n",
    "weightsinit, factorsinit = initialize_cp(tensor, rank, init=init, svd=svd,\n",
    "                                 random_state=None,\n",
    "                                 normalize_factors=False)\n",
    "\n",
    "cpinit=CPTensor((weightsinit,factorsinit))\n",
    "\n",
    "print(tensor.shape)\n"
   ]
  },
  {
   "cell_type": "markdown",
   "metadata": {},
   "source": [
    "# Tensorly Nonnegative Parafac"
   ]
  },
  {
   "cell_type": "code",
   "execution_count": 3,
   "metadata": {},
   "outputs": [],
   "source": [
    "tic = time.time()\n",
    "weightsnon, factorsnon = non_negative_parafac(tensor, rank=rank, init=cpinit, tol=10e-8)\n",
    "cp_reconstructionnon = tl.cp_to_tensor((weightsnon, factorsnon))\n",
    "time_tensorlynon = time.time()-tic"
   ]
  },
  {
   "cell_type": "markdown",
   "metadata": {},
   "source": [
    "# Hals in Tensorly"
   ]
  },
  {
   "cell_type": "code",
   "execution_count": 4,
   "metadata": {},
   "outputs": [],
   "source": [
    "ticnew = time.time()\n",
    "nncp=CPNN_HALS(rank=rank,init=cpinit)\n",
    "cptensor=nncp.fit_transform(tensor)\n",
    "cp_reconstruction_hals = tl.cp_to_tensor(cptensor)\n",
    "time_class = time.time()-ticnew"
   ]
  },
  {
   "cell_type": "markdown",
   "metadata": {},
   "source": [
    "# Comparison"
   ]
  },
  {
   "cell_type": "code",
   "execution_count": 5,
   "metadata": {},
   "outputs": [
    {
     "name": "stdout",
     "output_type": "stream",
     "text": [
      "time for tensorly noncp: 0.7674345970153809\n",
      "time for hals in tensorly: 2.2427027225494385\n",
      "RMSE tensorly ncp: 13.49321531452301\n",
      "RMSE Hals in tensorly: 8.679729593463863\n"
     ]
    },
    {
     "data": {
      "image/png": "[encoded data removed]",
      "text/plain": [
       "<Figure size 720x288 with 1 Axes>"
      ]
     },
     "metadata": {
      "needs_background": "light"
     },
     "output_type": "display_data"
    },
    {
     "data": {
      "image/png": "[encoded data removed]",
      "text/plain": [
       "<Figure size 720x288 with 1 Axes>"
      ]
     },
     "metadata": {
      "needs_background": "light"
     },
     "output_type": "display_data"
    }
   ],
   "source": [
    "def calculate_error(im1, im2):\n",
    "    r, c, b = im1.shape\n",
    "    sim = tl.zeros(b)\n",
    "    rmse = tl.zeros(b)\n",
    "    for i in range(b):\n",
    "        sim[i] = structural_similarity(im1[:, :, i], im2[:, :, i])\n",
    "        rmse[i] = RMSE(im1[:, :, i], im2[:, :, i])\n",
    "\n",
    "    return sim, rmse\n",
    "def errors_for_each(a,b,c):\n",
    "    ssimb,rmseb=calculate_error(a,b)\n",
    "    ssimc,rmsec=calculate_error(a,c)\n",
    "\n",
    "    fig=plt.figure()\n",
    "    fig.set_size_inches(10, fig.get_figheight(), forward=True)\n",
    "    plt.plot(rmseb)\n",
    "    plt.plot(rmsec)\n",
    "    plt.title('RMSE')\n",
    "    plt.legend(['ncp', 'hals'], loc='upper left')\n",
    "    fig=plt.figure()\n",
    "    fig.set_size_inches(10, fig.get_figheight(), forward=True)\n",
    "    plt.plot(ssimb)\n",
    "    plt.plot(ssimc)\n",
    "    plt.legend(['ncp','hals'], loc='upper left')\n",
    "    plt.title('SSIM')\n",
    "print('time for tensorly noncp:'+' ' +str(time_tensorlynon))\n",
    "print('time for hals in tensorly:'+' ' +str(time_class))\n",
    "print('RMSE tensorly ncp:'+' ' +str(RMSE(tensor,cp_reconstructionnon)))\n",
    "print('RMSE Hals in tensorly:'+' ' +str(RMSE(tensor,cp_reconstruction_hals)))\n",
    "errors_for_each(tensor,cp_reconstructionnon,cp_reconstruction_hals)"
   ]
  },
  {
   "cell_type": "markdown",
   "metadata": {},
   "source": [
    "# Change Backend to Tensorflow"
   ]
  },
  {
   "cell_type": "code",
   "execution_count": 6,
   "metadata": {},
   "outputs": [],
   "source": [
    "tl.set_backend('tensorflow')\n",
    "tensor=tl.tensor(image,dtype='float')\n",
    "test_non_negative_parafac_hals()"
   ]
  },
  {
   "cell_type": "markdown",
   "metadata": {},
   "source": [
    "# Tensorly Nonnegative Parafac"
   ]
  },
  {
   "cell_type": "code",
   "execution_count": 7,
   "metadata": {},
   "outputs": [
    {
     "name": "stdout",
     "output_type": "stream",
     "text": [
      "reconstruction error=0.4683462083339691\n",
      "iteration 1, reconstraction error: 0.3480120003223419, decrease = 0.1203342080116272\n",
      "iteration 2, reconstraction error: 0.2908419966697693, decrease = 0.05717000365257263\n",
      "iteration 3, reconstraction error: 0.26572519540786743, decrease = 0.025116801261901855\n",
      "iteration 4, reconstraction error: 0.25143569707870483, decrease = 0.014289498329162598\n",
      "iteration 5, reconstraction error: 0.2417619824409485, decrease = 0.009673714637756348\n",
      "iteration 6, reconstraction error: 0.23449958860874176, decrease = 0.007262393832206726\n",
      "iteration 7, reconstraction error: 0.22867494821548462, decrease = 0.005824640393257141\n",
      "iteration 8, reconstraction error: 0.22378763556480408, decrease = 0.004887312650680542\n",
      "iteration 9, reconstraction error: 0.21954494714736938, decrease = 0.004242688417434692\n",
      "iteration 10, reconstraction error: 0.21576501429080963, decrease = 0.0037799328565597534\n",
      "iteration 11, reconstraction error: 0.2123255431652069, decrease = 0.003439471125602722\n",
      "iteration 12, reconstraction error: 0.20914162695407867, decrease = 0.003183916211128235\n",
      "iteration 13, reconstraction error: 0.20615611970424652, decrease = 0.0029855072498321533\n",
      "iteration 14, reconstraction error: 0.20332853496074677, decrease = 0.002827584743499756\n",
      "iteration 15, reconstraction error: 0.20062915980815887, decrease = 0.0026993751525878906\n",
      "iteration 16, reconstraction error: 0.19804008305072784, decrease = 0.0025890767574310303\n",
      "iteration 17, reconstraction error: 0.19554699957370758, decrease = 0.0024930834770202637\n",
      "iteration 18, reconstraction error: 0.19314080476760864, decrease = 0.002406194806098938\n",
      "iteration 19, reconstraction error: 0.19081540405750275, decrease = 0.002325400710105896\n",
      "iteration 20, reconstraction error: 0.18856924772262573, decrease = 0.002246156334877014\n",
      "iteration 21, reconstraction error: 0.18639688193798065, decrease = 0.0021723657846450806\n",
      "iteration 22, reconstraction error: 0.1843004673719406, decrease = 0.002096414566040039\n",
      "iteration 23, reconstraction error: 0.1822788268327713, decrease = 0.0020216405391693115\n",
      "iteration 24, reconstraction error: 0.18033014237880707, decrease = 0.0019486844539642334\n",
      "iteration 25, reconstraction error: 0.17845898866653442, decrease = 0.001871153712272644\n",
      "iteration 26, reconstraction error: 0.17666123807430267, decrease = 0.0017977505922317505\n",
      "iteration 27, reconstraction error: 0.17493559420108795, decrease = 0.0017256438732147217\n",
      "iteration 28, reconstraction error: 0.17328377068042755, decrease = 0.0016518235206604004\n",
      "iteration 29, reconstraction error: 0.17170201241970062, decrease = 0.0015817582607269287\n",
      "iteration 30, reconstraction error: 0.1701899766921997, decrease = 0.0015120357275009155\n",
      "iteration 31, reconstraction error: 0.1687440574169159, decrease = 0.0014459192752838135\n",
      "iteration 32, reconstraction error: 0.1673603653907776, decrease = 0.0013836920261383057\n",
      "iteration 33, reconstraction error: 0.16603904962539673, decrease = 0.0013213157653808594\n",
      "iteration 34, reconstraction error: 0.16477267444133759, decrease = 0.001266375184059143\n",
      "iteration 35, reconstraction error: 0.16356059908866882, decrease = 0.0012120753526687622\n",
      "iteration 36, reconstraction error: 0.1623978316783905, decrease = 0.0011627674102783203\n",
      "iteration 37, reconstraction error: 0.16127966344356537, decrease = 0.0011181682348251343\n",
      "iteration 38, reconstraction error: 0.16020557284355164, decrease = 0.001074090600013733\n",
      "iteration 39, reconstraction error: 0.15916863083839417, decrease = 0.0010369420051574707\n",
      "iteration 40, reconstraction error: 0.15816615521907806, decrease = 0.001002475619316101\n",
      "iteration 41, reconstraction error: 0.1571958363056183, decrease = 0.0009703189134597778\n",
      "iteration 42, reconstraction error: 0.15625375509262085, decrease = 0.0009420812129974365\n",
      "iteration 43, reconstraction error: 0.15533700585365295, decrease = 0.0009167492389678955\n",
      "iteration 44, reconstraction error: 0.15444494783878326, decrease = 0.0008920580148696899\n",
      "iteration 45, reconstraction error: 0.15357504785060883, decrease = 0.0008698999881744385\n",
      "iteration 46, reconstraction error: 0.15272459387779236, decrease = 0.0008504539728164673\n",
      "iteration 47, reconstraction error: 0.15189187228679657, decrease = 0.0008327215909957886\n",
      "iteration 48, reconstraction error: 0.15107564628124237, decrease = 0.0008162260055541992\n",
      "iteration 49, reconstraction error: 0.1502782553434372, decrease = 0.0007973909378051758\n",
      "iteration 50, reconstraction error: 0.14949530363082886, decrease = 0.0007829517126083374\n",
      "iteration 51, reconstraction error: 0.14872702956199646, decrease = 0.0007682740688323975\n",
      "iteration 52, reconstraction error: 0.14797155559062958, decrease = 0.0007554739713668823\n",
      "iteration 53, reconstraction error: 0.1472322642803192, decrease = 0.0007392913103103638\n",
      "iteration 54, reconstraction error: 0.14650726318359375, decrease = 0.0007250010967254639\n",
      "iteration 55, reconstraction error: 0.1457941085100174, decrease = 0.000713154673576355\n",
      "iteration 56, reconstraction error: 0.14509616792201996, decrease = 0.0006979405879974365\n",
      "iteration 57, reconstraction error: 0.14440777897834778, decrease = 0.0006883889436721802\n",
      "iteration 58, reconstraction error: 0.14373447000980377, decrease = 0.0006733089685440063\n",
      "iteration 59, reconstraction error: 0.14307373762130737, decrease = 0.0006607323884963989\n",
      "iteration 60, reconstraction error: 0.1424241065979004, decrease = 0.0006496310234069824\n",
      "iteration 61, reconstraction error: 0.14178574085235596, decrease = 0.0006383657455444336\n",
      "iteration 62, reconstraction error: 0.141158789396286, decrease = 0.0006269514560699463\n",
      "iteration 63, reconstraction error: 0.14054231345653534, decrease = 0.0006164759397506714\n",
      "iteration 64, reconstraction error: 0.13993589580059052, decrease = 0.0006064176559448242\n",
      "iteration 65, reconstraction error: 0.13933852314949036, decrease = 0.0005973726511001587\n",
      "iteration 66, reconstraction error: 0.13874979317188263, decrease = 0.000588729977607727\n",
      "iteration 67, reconstraction error: 0.13817091286182404, decrease = 0.0005788803100585938\n",
      "iteration 68, reconstraction error: 0.13760031759738922, decrease = 0.0005705952644348145\n",
      "iteration 69, reconstraction error: 0.13703586161136627, decrease = 0.0005644559860229492\n",
      "iteration 70, reconstraction error: 0.13648158311843872, decrease = 0.0005542784929275513\n",
      "iteration 71, reconstraction error: 0.13593246042728424, decrease = 0.00054912269115448\n",
      "iteration 72, reconstraction error: 0.13539087772369385, decrease = 0.0005415827035903931\n",
      "iteration 73, reconstraction error: 0.13485634326934814, decrease = 0.0005345344543457031\n",
      "iteration 74, reconstraction error: 0.1343289166688919, decrease = 0.0005274266004562378\n",
      "iteration 75, reconstraction error: 0.13380810618400574, decrease = 0.0005208104848861694\n",
      "iteration 76, reconstraction error: 0.13329344987869263, decrease = 0.0005146563053131104\n",
      "iteration 77, reconstraction error: 0.1327861249446869, decrease = 0.0005073249340057373\n",
      "iteration 78, reconstraction error: 0.1322856992483139, decrease = 0.0005004256963729858\n",
      "iteration 79, reconstraction error: 0.13178983330726624, decrease = 0.0004958659410476685\n",
      "iteration 80, reconstraction error: 0.13130155205726624, decrease = 0.00048828125\n",
      "iteration 81, reconstraction error: 0.13081739842891693, decrease = 0.0004841536283493042\n",
      "iteration 82, reconstraction error: 0.13034097850322723, decrease = 0.00047641992568969727\n",
      "iteration 83, reconstraction error: 0.12987177073955536, decrease = 0.000469207763671875\n",
      "iteration 84, reconstraction error: 0.1294056624174118, decrease = 0.0004661083221435547\n",
      "iteration 85, reconstraction error: 0.12894752621650696, decrease = 0.0004581362009048462\n",
      "iteration 86, reconstraction error: 0.1284950077533722, decrease = 0.0004525184631347656\n",
      "iteration 87, reconstraction error: 0.12804755568504333, decrease = 0.0004474520683288574\n",
      "iteration 88, reconstraction error: 0.12760582566261292, decrease = 0.0004417300224304199\n",
      "iteration 89, reconstraction error: 0.12717051804065704, decrease = 0.0004353076219558716\n",
      "iteration 90, reconstraction error: 0.1267404407262802, decrease = 0.00043007731437683105\n",
      "iteration 91, reconstraction error: 0.1263156682252884, decrease = 0.0004247725009918213\n",
      "iteration 92, reconstraction error: 0.12589626014232635, decrease = 0.00041940808296203613\n",
      "iteration 93, reconstraction error: 0.1254822462797165, decrease = 0.0004140138626098633\n",
      "iteration 94, reconstraction error: 0.12507493793964386, decrease = 0.00040730834007263184\n"
     ]
    },
    {
     "name": "stdout",
     "output_type": "stream",
     "text": [
      "iteration 95, reconstraction error: 0.12467377632856369, decrease = 0.0004011616110801697\n",
      "iteration 96, reconstraction error: 0.12427694350481033, decrease = 0.00039683282375335693\n",
      "iteration 97, reconstraction error: 0.12388699501752853, decrease = 0.0003899484872817993\n",
      "iteration 98, reconstraction error: 0.12350334972143173, decrease = 0.00038364529609680176\n",
      "iteration 99, reconstraction error: 0.12312419712543488, decrease = 0.0003791525959968567\n"
     ]
    }
   ],
   "source": [
    "tic = time.time()\n",
    "weightsnon, factorsnon = non_negative_parafac(tensor, rank=rank, init=init, tol=10e-8,verbose=1)\n",
    "cp_reconstructionnon = tl.cp_to_tensor((weightsnon, factorsnon))\n",
    "time_tensorlynon = time.time()-tic"
   ]
  },
  {
   "cell_type": "markdown",
   "metadata": {},
   "source": [
    "# Hals in Tensorly"
   ]
  },
  {
   "cell_type": "code",
   "execution_count": 8,
   "metadata": {},
   "outputs": [
    {
     "name": "stdout",
     "output_type": "stream",
     "text": [
      "reconstruction error=0.24565155804157257\n",
      "iteration 1, reconstruction error: 0.12981973588466644, decrease = 0.11583182215690613\n",
      "iteration 2, reconstruction error: 0.11440639197826385, decrease = 0.015413343906402588\n",
      "iteration 3, reconstruction error: 0.1054520457983017, decrease = 0.008954346179962158\n",
      "iteration 4, reconstruction error: 0.09911470115184784, decrease = 0.006337344646453857\n",
      "iteration 5, reconstruction error: 0.09431571513414383, decrease = 0.00479898601770401\n",
      "iteration 6, reconstruction error: 0.09063030779361725, decrease = 0.003685407340526581\n",
      "iteration 7, reconstruction error: 0.08785497397184372, decrease = 0.002775333821773529\n",
      "iteration 8, reconstruction error: 0.08559278398752213, decrease = 0.0022621899843215942\n",
      "iteration 9, reconstruction error: 0.083652563393116, decrease = 0.001940220594406128\n",
      "iteration 10, reconstruction error: 0.0818268209695816, decrease = 0.0018257424235343933\n",
      "iteration 11, reconstruction error: 0.080350860953331, decrease = 0.0014759600162506104\n",
      "iteration 12, reconstruction error: 0.07915204018354416, decrease = 0.0011988207697868347\n",
      "iteration 13, reconstruction error: 0.0782976821064949, decrease = 0.0008543580770492554\n",
      "iteration 14, reconstruction error: 0.07766824960708618, decrease = 0.0006294324994087219\n",
      "iteration 15, reconstruction error: 0.07724007219076157, decrease = 0.0004281774163246155\n",
      "iteration 16, reconstruction error: 0.07683782279491425, decrease = 0.00040224939584732056\n",
      "iteration 17, reconstruction error: 0.07653196156024933, decrease = 0.000305861234664917\n",
      "iteration 18, reconstruction error: 0.07624626159667969, decrease = 0.0002856999635696411\n",
      "iteration 19, reconstruction error: 0.07586638629436493, decrease = 0.0003798753023147583\n",
      "iteration 20, reconstruction error: 0.07551957666873932, decrease = 0.00034680962562561035\n",
      "iteration 21, reconstruction error: 0.07520008087158203, decrease = 0.0003194957971572876\n",
      "iteration 22, reconstruction error: 0.07494040578603745, decrease = 0.0002596750855445862\n",
      "iteration 23, reconstruction error: 0.07471413165330887, decrease = 0.00022627413272857666\n",
      "iteration 24, reconstruction error: 0.0745309516787529, decrease = 0.00018317997455596924\n",
      "iteration 25, reconstruction error: 0.0744590163230896, decrease = 7.193535566329956e-05\n",
      "iteration 26, reconstruction error: 0.07441206276416779, decrease = 4.6953558921813965e-05\n",
      "iteration 27, reconstruction error: 0.07436820864677429, decrease = 4.385411739349365e-05\n",
      "iteration 28, reconstruction error: 0.07435149699449539, decrease = 1.6711652278900146e-05\n",
      "iteration 29, reconstruction error: 0.07436089962720871, decrease = -9.402632713317871e-06\n",
      "iteration 30, reconstruction error: 0.07435046136379242, decrease = 1.0438263416290283e-05\n",
      "iteration 31, reconstruction error: 0.07434418797492981, decrease = 6.273388862609863e-06\n",
      "iteration 32, reconstruction error: 0.07434941083192825, decrease = -5.2228569984436035e-06\n",
      "iteration 33, reconstruction error: 0.07434731721878052, decrease = 2.0936131477355957e-06\n",
      "iteration 34, reconstruction error: 0.07432433217763901, decrease = 2.298504114151001e-05\n",
      "iteration 35, reconstruction error: 0.07431492954492569, decrease = 9.402632713317871e-06\n",
      "iteration 36, reconstruction error: 0.07433374226093292, decrease = -1.8812716007232666e-05\n",
      "iteration 37, reconstruction error: 0.07431179285049438, decrease = 2.1949410438537598e-05\n",
      "iteration 38, reconstruction error: 0.07429507374763489, decrease = 1.671910285949707e-05\n",
      "iteration 39, reconstruction error: 0.07426684349775314, decrease = 2.8230249881744385e-05\n",
      "iteration 40, reconstruction error: 0.07422813773155212, decrease = 3.870576620101929e-05\n",
      "iteration 41, reconstruction error: 0.07418836653232574, decrease = 3.9771199226379395e-05\n",
      "iteration 42, reconstruction error: 0.07414962351322174, decrease = 3.8743019104003906e-05\n",
      "iteration 43, reconstruction error: 0.07411818951368332, decrease = 3.143399953842163e-05\n",
      "iteration 44, reconstruction error: 0.0740773156285286, decrease = 4.087388515472412e-05\n",
      "iteration 45, reconstruction error: 0.07404060661792755, decrease = 3.67090106010437e-05\n",
      "iteration 46, reconstruction error: 0.07399549335241318, decrease = 4.511326551437378e-05\n",
      "iteration 47, reconstruction error: 0.07393983751535416, decrease = 5.5655837059020996e-05\n",
      "iteration 48, reconstruction error: 0.07389255613088608, decrease = 4.728138446807861e-05\n",
      "iteration 49, reconstruction error: 0.07384524494409561, decrease = 4.731118679046631e-05\n",
      "iteration 50, reconstruction error: 0.073796845972538, decrease = 4.839897155761719e-05\n",
      "iteration 51, reconstruction error: 0.07375579327344894, decrease = 4.105269908905029e-05\n",
      "iteration 52, reconstruction error: 0.07372945547103882, decrease = 2.6337802410125732e-05\n",
      "iteration 53, reconstruction error: 0.07371892780065536, decrease = 1.0527670383453369e-05\n",
      "iteration 54, reconstruction error: 0.07368626445531845, decrease = 3.266334533691406e-05\n",
      "iteration 55, reconstruction error: 0.07365568727254868, decrease = 3.057718276977539e-05\n",
      "iteration 56, reconstruction error: 0.07361455261707306, decrease = 4.1134655475616455e-05\n",
      "iteration 57, reconstruction error: 0.07357972860336304, decrease = 3.482401371002197e-05\n",
      "iteration 58, reconstruction error: 0.07354804873466492, decrease = 3.167986869812012e-05\n",
      "iteration 59, reconstruction error: 0.07349734753370285, decrease = 5.070120096206665e-05\n",
      "iteration 60, reconstruction error: 0.07346352934837341, decrease = 3.3818185329437256e-05\n",
      "iteration 61, reconstruction error: 0.0734381452202797, decrease = 2.5384128093719482e-05\n",
      "iteration 62, reconstruction error: 0.07341381907463074, decrease = 2.43261456489563e-05\n",
      "iteration 63, reconstruction error: 0.07339582592248917, decrease = 1.7993152141571045e-05\n",
      "iteration 64, reconstruction error: 0.07337995618581772, decrease = 1.5869736671447754e-05\n",
      "iteration 65, reconstruction error: 0.07334289699792862, decrease = 3.705918788909912e-05\n",
      "iteration 66, reconstruction error: 0.07329099625349045, decrease = 5.190074443817139e-05\n",
      "iteration 67, reconstruction error: 0.07325071096420288, decrease = 4.028528928756714e-05\n",
      "iteration 68, reconstruction error: 0.0732220858335495, decrease = 2.8625130653381348e-05\n",
      "iteration 69, reconstruction error: 0.07318919152021408, decrease = 3.28943133354187e-05\n",
      "iteration 70, reconstruction error: 0.07314886152744293, decrease = 4.032999277114868e-05\n",
      "iteration 71, reconstruction error: 0.07309574633836746, decrease = 5.311518907546997e-05\n",
      "iteration 72, reconstruction error: 0.07306280732154846, decrease = 3.2939016819000244e-05\n",
      "iteration 73, reconstruction error: 0.07302665710449219, decrease = 3.6150217056274414e-05\n",
      "iteration 74, reconstruction error: 0.07298941910266876, decrease = 3.723800182342529e-05\n",
      "iteration 75, reconstruction error: 0.0729479119181633, decrease = 4.1507184505462646e-05\n",
      "iteration 76, reconstruction error: 0.07291276752948761, decrease = 3.51443886756897e-05\n",
      "iteration 77, reconstruction error: 0.07288613170385361, decrease = 2.6635825634002686e-05\n",
      "iteration 78, reconstruction error: 0.07286268472671509, decrease = 2.3446977138519287e-05\n",
      "iteration 79, reconstruction error: 0.07284136116504669, decrease = 2.1323561668395996e-05\n",
      "iteration 80, reconstruction error: 0.07282750308513641, decrease = 1.385807991027832e-05\n",
      "iteration 81, reconstruction error: 0.07279550284147263, decrease = 3.200024366378784e-05\n",
      "iteration 82, reconstruction error: 0.07275815308094025, decrease = 3.734976053237915e-05\n",
      "iteration 83, reconstruction error: 0.07272825390100479, decrease = 2.9899179935455322e-05\n",
      "iteration 84, reconstruction error: 0.07270155102014542, decrease = 2.6702880859375e-05\n",
      "iteration 85, reconstruction error: 0.07267911732196808, decrease = 2.2433698177337646e-05\n",
      "iteration 86, reconstruction error: 0.07265773415565491, decrease = 2.1383166313171387e-05\n",
      "iteration 87, reconstruction error: 0.07263635843992233, decrease = 2.1375715732574463e-05\n",
      "iteration 88, reconstruction error: 0.07261389493942261, decrease = 2.2463500499725342e-05\n",
      "iteration 89, reconstruction error: 0.0725935772061348, decrease = 2.031773328781128e-05\n",
      "iteration 90, reconstruction error: 0.0725807398557663, decrease = 1.2837350368499756e-05\n",
      "iteration 91, reconstruction error: 0.07256253808736801, decrease = 1.8201768398284912e-05\n"
     ]
    },
    {
     "name": "stdout",
     "output_type": "stream",
     "text": [
      "iteration 92, reconstruction error: 0.07254113256931305, decrease = 2.1405518054962158e-05\n",
      "iteration 93, reconstruction error: 0.07252292335033417, decrease = 1.8209218978881836e-05\n",
      "iteration 94, reconstruction error: 0.07250150293111801, decrease = 2.1420419216156006e-05\n",
      "iteration 95, reconstruction error: 0.07247686386108398, decrease = 2.46390700340271e-05\n",
      "iteration 96, reconstruction error: 0.07246185839176178, decrease = 1.500546932220459e-05\n",
      "iteration 97, reconstruction error: 0.07244792580604553, decrease = 1.3932585716247559e-05\n",
      "iteration 98, reconstruction error: 0.07242970168590546, decrease = 1.8224120140075684e-05\n",
      "iteration 99, reconstruction error: 0.07241146266460419, decrease = 1.823902130126953e-05\n"
     ]
    }
   ],
   "source": [
    "ticnew = time.time()\n",
    "nncp=CPNN_HALS(rank=rank,init=init,verbose=1)\n",
    "cptensor=nncp.fit_transform(tensor)\n",
    "cp_reconstruction_hals = tl.cp_to_tensor(cptensor)\n",
    "time_class = time.time()-ticnew"
   ]
  },
  {
   "cell_type": "markdown",
   "metadata": {},
   "source": [
    "# Comparison"
   ]
  },
  {
   "cell_type": "code",
   "execution_count": 9,
   "metadata": {},
   "outputs": [
    {
     "name": "stdout",
     "output_type": "stream",
     "text": [
      "time for tensorly noncp: 9.014447450637817\n",
      "time for hals in tensorly: 76.52248501777649\n",
      "RMSE tensorly ncp: tf.Tensor(14.429204, shape=(), dtype=float32)\n",
      "RMSE Hals in tensorly: tf.Tensor(8.495953, shape=(), dtype=float32)\n"
     ]
    }
   ],
   "source": [
    "print('time for tensorly noncp:'+' ' +str(time_tensorlynon))\n",
    "print('time for hals in tensorly:'+' ' +str(time_class))\n",
    "print('RMSE tensorly ncp:'+' ' +str(RMSE(tensor,cp_reconstructionnon)))\n",
    "print('RMSE Hals in tensorly:'+' ' +str(RMSE(tensor,cp_reconstruction_hals)))\n",
    "#errors_for_each(tensor,cp_reconstructionnon,cp_reconstruction_hals)"
   ]
  },
  {
   "cell_type": "markdown",
   "metadata": {},
   "source": [
    "# Change Backend to Pytorch"
   ]
  },
  {
   "cell_type": "code",
   "execution_count": 10,
   "metadata": {},
   "outputs": [
    {
     "name": "stderr",
     "output_type": "stream",
     "text": [
      "/home/ctuna/tensorly/tensorly/backend/pytorch_backend.py:35: UserWarning: To copy construct from a tensor, it is recommended to use sourceTensor.clone().detach() or sourceTensor.clone().detach().requires_grad_(True), rather than torch.tensor(sourceTensor).\n",
      "  return torch.tensor(data, dtype=dtype, device=device,\n"
     ]
    },
    {
     "ename": "TypeError",
     "evalue": "max() received an invalid combination of arguments - got (list, axis=int), but expected one of:\n * (Tensor input)\n * (Tensor input, name dim, bool keepdim, *, tuple of Tensors out)\n * (Tensor input, Tensor other, *, Tensor out)\n * (Tensor input, int dim, bool keepdim, *, tuple of Tensors out)\n",
     "output_type": "error",
     "traceback": [
      "\u001b[0;31m---------------------------------------------------------------------------\u001b[0m",
      "\u001b[0;31mTypeError\u001b[0m                                 Traceback (most recent call last)",
      "\u001b[0;32m<ipython-input-10-b0a7f599b3c6>\u001b[0m in \u001b[0;36m<module>\u001b[0;34m\u001b[0m\n\u001b[1;32m      2\u001b[0m \u001b[0mtl\u001b[0m\u001b[0;34m.\u001b[0m\u001b[0mset_backend\u001b[0m\u001b[0;34m(\u001b[0m\u001b[0;34m'pytorch'\u001b[0m\u001b[0;34m)\u001b[0m\u001b[0;34m\u001b[0m\u001b[0;34m\u001b[0m\u001b[0m\n\u001b[1;32m      3\u001b[0m \u001b[0mtensor\u001b[0m \u001b[0;34m=\u001b[0m \u001b[0mtl\u001b[0m\u001b[0;34m.\u001b[0m\u001b[0mtensor\u001b[0m\u001b[0;34m(\u001b[0m\u001b[0mnp\u001b[0m\u001b[0;34m.\u001b[0m\u001b[0marray\u001b[0m\u001b[0;34m(\u001b[0m\u001b[0mimage\u001b[0m\u001b[0;34m,\u001b[0m\u001b[0mdtype\u001b[0m\u001b[0;34m=\u001b[0m\u001b[0mint\u001b[0m\u001b[0;34m)\u001b[0m\u001b[0;34m)\u001b[0m\u001b[0;34m\u001b[0m\u001b[0;34m\u001b[0m\u001b[0m\n\u001b[0;32m----> 4\u001b[0;31m \u001b[0mtest_non_negative_parafac_hals\u001b[0m\u001b[0;34m(\u001b[0m\u001b[0;34m)\u001b[0m\u001b[0;34m\u001b[0m\u001b[0;34m\u001b[0m\u001b[0m\n\u001b[0m",
      "\u001b[0;32m<ipython-input-2-84c2b6ac2332>\u001b[0m in \u001b[0;36mtest_non_negative_parafac_hals\u001b[0;34m()\u001b[0m\n\u001b[1;32m     30\u001b[0m     \u001b[0;32mfor\u001b[0m \u001b[0mfactor\u001b[0m \u001b[0;32min\u001b[0m \u001b[0mfixed_tensor\u001b[0m\u001b[0;34m[\u001b[0m\u001b[0;36m1\u001b[0m\u001b[0;34m]\u001b[0m\u001b[0;34m:\u001b[0m\u001b[0;34m\u001b[0m\u001b[0;34m\u001b[0m\u001b[0m\n\u001b[1;32m     31\u001b[0m         \u001b[0mfactor\u001b[0m \u001b[0;34m=\u001b[0m \u001b[0mtl\u001b[0m\u001b[0;34m.\u001b[0m\u001b[0mabs\u001b[0m\u001b[0;34m(\u001b[0m\u001b[0mfactor\u001b[0m\u001b[0;34m)\u001b[0m\u001b[0;34m\u001b[0m\u001b[0;34m\u001b[0m\u001b[0m\n\u001b[0;32m---> 32\u001b[0;31m     \u001b[0mrec_svd_fixed_mode_0\u001b[0m \u001b[0;34m=\u001b[0m \u001b[0mnon_negative_parafac_hals\u001b[0m\u001b[0;34m(\u001b[0m\u001b[0mtensor\u001b[0m\u001b[0;34m,\u001b[0m \u001b[0mrank\u001b[0m\u001b[0;34m=\u001b[0m\u001b[0;36m2\u001b[0m\u001b[0;34m,\u001b[0m \u001b[0mn_iter_max\u001b[0m\u001b[0;34m=\u001b[0m\u001b[0;36m2\u001b[0m\u001b[0;34m,\u001b[0m \u001b[0minit\u001b[0m\u001b[0;34m=\u001b[0m\u001b[0mfixed_tensor\u001b[0m\u001b[0;34m,\u001b[0m \u001b[0mfixed_modes\u001b[0m\u001b[0;34m=\u001b[0m\u001b[0;34m[\u001b[0m\u001b[0;36m0\u001b[0m\u001b[0;34m]\u001b[0m\u001b[0;34m)\u001b[0m\u001b[0;34m\u001b[0m\u001b[0;34m\u001b[0m\u001b[0m\n\u001b[0m\u001b[1;32m     33\u001b[0m     \u001b[0mrec_svd_fixed_mode_1\u001b[0m \u001b[0;34m=\u001b[0m \u001b[0mnon_negative_parafac_hals\u001b[0m\u001b[0;34m(\u001b[0m\u001b[0mtensor\u001b[0m\u001b[0;34m,\u001b[0m \u001b[0mrank\u001b[0m\u001b[0;34m=\u001b[0m\u001b[0;36m2\u001b[0m\u001b[0;34m,\u001b[0m \u001b[0mn_iter_max\u001b[0m\u001b[0;34m=\u001b[0m\u001b[0;36m2\u001b[0m\u001b[0;34m,\u001b[0m \u001b[0minit\u001b[0m\u001b[0;34m=\u001b[0m\u001b[0mfixed_tensor\u001b[0m\u001b[0;34m,\u001b[0m \u001b[0mfixed_modes\u001b[0m\u001b[0;34m=\u001b[0m\u001b[0;34m[\u001b[0m\u001b[0;36m1\u001b[0m\u001b[0;34m]\u001b[0m\u001b[0;34m)\u001b[0m\u001b[0;34m\u001b[0m\u001b[0;34m\u001b[0m\u001b[0m\n\u001b[1;32m     34\u001b[0m     \u001b[0;31m# Check if modified after 2 iterations\u001b[0m\u001b[0;34m\u001b[0m\u001b[0;34m\u001b[0m\u001b[0;34m\u001b[0m\u001b[0m\n",
      "\u001b[0;32m~/tensorly/tensorly/decomposition/_nn_cp.py\u001b[0m in \u001b[0;36mnon_negative_parafac_hals\u001b[0;34m(tensor, rank, n_iter_max, init, svd, tol, sparsity_coefficients, fixed_modes, exact, verbose, return_errors, cvg_criterion)\u001b[0m\n\u001b[1;32m    389\u001b[0m             \u001b[0;31m# Call the hals resolution with nnls, optimizing the current mode\u001b[0m\u001b[0;34m\u001b[0m\u001b[0;34m\u001b[0m\u001b[0;34m\u001b[0m\u001b[0m\n\u001b[1;32m    390\u001b[0m             factors[mode] = tl.transpose(\n\u001b[0;32m--> 391\u001b[0;31m                       hals_nnls(tl.transpose(mttkrp), pseudo_inverse, tl.transpose(factors[mode]),\n\u001b[0m\u001b[1;32m    392\u001b[0m                              n_iter_max=100,sparsity_coefficient=sparsity_coefficients[mode],exact=exact)[0])\n\u001b[1;32m    393\u001b[0m \u001b[0;34m\u001b[0m\u001b[0m\n",
      "\u001b[0;32m~/tensorly/tensorly/tenalg/proximal.py\u001b[0m in \u001b[0;36mhals_nnls\u001b[0;34m(UtM, UtU, V, n_iter_max, tol, sparsity_coefficient, normalize, nonzero_rows, exact)\u001b[0m\n\u001b[1;32m    213\u001b[0m                 \u001b[0;32melse\u001b[0m\u001b[0;34m:\u001b[0m  \u001b[0;31m# without sparsity\u001b[0m\u001b[0;34m\u001b[0m\u001b[0;34m\u001b[0m\u001b[0m\n\u001b[1;32m    214\u001b[0m \u001b[0;34m\u001b[0m\u001b[0m\n\u001b[0;32m--> 215\u001b[0;31m                     deltaV = tl.max([(UtM[k, :] - tl.dot(UtU[k, :], V)) / UtU[k, k],\n\u001b[0m\u001b[1;32m    216\u001b[0m                                          -V[k, :]], axis=0)\n\u001b[1;32m    217\u001b[0m                     \u001b[0mV\u001b[0m\u001b[0;34m=\u001b[0m\u001b[0mtl\u001b[0m\u001b[0;34m.\u001b[0m\u001b[0mindex_update\u001b[0m\u001b[0;34m(\u001b[0m\u001b[0mV\u001b[0m\u001b[0;34m,\u001b[0m\u001b[0mtl\u001b[0m\u001b[0;34m.\u001b[0m\u001b[0mindex\u001b[0m\u001b[0;34m[\u001b[0m\u001b[0mk\u001b[0m\u001b[0;34m,\u001b[0m \u001b[0;34m:\u001b[0m\u001b[0;34m]\u001b[0m\u001b[0;34m,\u001b[0m\u001b[0mV\u001b[0m\u001b[0;34m[\u001b[0m\u001b[0mk\u001b[0m\u001b[0;34m,\u001b[0m \u001b[0;34m:\u001b[0m\u001b[0;34m]\u001b[0m \u001b[0;34m+\u001b[0m \u001b[0mdeltaV\u001b[0m\u001b[0;34m)\u001b[0m\u001b[0;34m\u001b[0m\u001b[0;34m\u001b[0m\u001b[0m\n",
      "\u001b[0;32m~/tensorly/tensorly/backend/__init__.py\u001b[0m in \u001b[0;36minner\u001b[0;34m(*args, **kwargs)\u001b[0m\n\u001b[1;32m    159\u001b[0m \u001b[0;34m\u001b[0m\u001b[0m\n\u001b[1;32m    160\u001b[0m     \u001b[0;32mdef\u001b[0m \u001b[0minner\u001b[0m\u001b[0;34m(\u001b[0m\u001b[0;34m*\u001b[0m\u001b[0margs\u001b[0m\u001b[0;34m,\u001b[0m \u001b[0;34m**\u001b[0m\u001b[0mkwargs\u001b[0m\u001b[0;34m)\u001b[0m\u001b[0;34m:\u001b[0m\u001b[0;34m\u001b[0m\u001b[0;34m\u001b[0m\u001b[0m\n\u001b[0;32m--> 161\u001b[0;31m         \u001b[0;32mreturn\u001b[0m \u001b[0m_get_backend_method\u001b[0m\u001b[0;34m(\u001b[0m\u001b[0mname\u001b[0m\u001b[0;34m)\u001b[0m\u001b[0;34m(\u001b[0m\u001b[0;34m*\u001b[0m\u001b[0margs\u001b[0m\u001b[0;34m,\u001b[0m \u001b[0;34m**\u001b[0m\u001b[0mkwargs\u001b[0m\u001b[0;34m)\u001b[0m\u001b[0;34m\u001b[0m\u001b[0;34m\u001b[0m\u001b[0m\n\u001b[0m\u001b[1;32m    162\u001b[0m \u001b[0;34m\u001b[0m\u001b[0m\n\u001b[1;32m    163\u001b[0m     \u001b[0;31m# We don't use `functools.wraps` here because some of the dispatched\u001b[0m\u001b[0;34m\u001b[0m\u001b[0;34m\u001b[0m\u001b[0;34m\u001b[0m\u001b[0m\n",
      "\u001b[0;31mTypeError\u001b[0m: max() received an invalid combination of arguments - got (list, axis=int), but expected one of:\n * (Tensor input)\n * (Tensor input, name dim, bool keepdim, *, tuple of Tensors out)\n * (Tensor input, Tensor other, *, Tensor out)\n * (Tensor input, int dim, bool keepdim, *, tuple of Tensors out)\n"
     ]
    }
   ],
   "source": [
    "import numpy as np\n",
    "tl.set_backend('pytorch')\n",
    "tensor = tl.tensor(np.array(image,dtype=int))\n",
    "test_non_negative_parafac_hals()"
   ]
  },
  {
   "cell_type": "markdown",
   "metadata": {},
   "source": [
    "# Tensorly Nonnegative Parafac"
   ]
  },
  {
   "cell_type": "code",
   "execution_count": null,
   "metadata": {},
   "outputs": [],
   "source": [
    "tic = time.time()\n",
    "weightsnon, factorsnon = non_negative_parafac(tensor, rank=rank, init=init, tol=10e-8)\n",
    "cp_reconstructionnon = tl.cp_to_tensor((weightsnon, factorsnon))\n",
    "time_tensorlynon = time.time()-tic"
   ]
  },
  {
   "cell_type": "markdown",
   "metadata": {},
   "source": [
    "# Hals in Tensorly"
   ]
  },
  {
   "cell_type": "code",
   "execution_count": null,
   "metadata": {},
   "outputs": [],
   "source": [
    "ticnew = time.time()\n",
    "nncp=CPNN_Hals(rank=rank,init=init)\n",
    "cptensor=nncp.fit_transform(tensor)\n",
    "cp_reconstruction_hals = nncp.cp_to_tensor()\n",
    "time_class = time.time()-ticnew"
   ]
  },
  {
   "cell_type": "markdown",
   "metadata": {},
   "source": [
    "# Comparison"
   ]
  },
  {
   "cell_type": "code",
   "execution_count": null,
   "metadata": {},
   "outputs": [],
   "source": [
    "print('time for tensorly noncp:'+' ' +str(time_tensorlynon))\n",
    "print('time for hals in tensorly:'+' ' +str(time_class))\n",
    "print('RMSE tensorly ncp:'+' ' +str(RMSE(tensor,cp_reconstructionnon)))\n",
    "print('RMSE Hals in tensorly:'+' ' +str(RMSE(tensor,cp_reconstruction_hals)))"
   ]
  },
  {
   "cell_type": "markdown",
   "metadata": {},
   "source": [
    "# Change Backend to Mxnet"
   ]
  },
  {
   "cell_type": "code",
   "execution_count": null,
   "metadata": {},
   "outputs": [],
   "source": [
    "tl.set_backend('mxnet')\n",
    "tensor = tl.tensor(np.array(image,dtype=int))\n",
    "test_non_negative_parafac_hals()"
   ]
  },
  {
   "cell_type": "code",
   "execution_count": null,
   "metadata": {},
   "outputs": [],
   "source": []
  }
 ],
 "metadata": {
  "kernelspec": {
   "display_name": "Python 3",
   "language": "python",
   "name": "python3"
  },
  "language_info": {
   "codemirror_mode": {
    "name": "ipython",
    "version": 3
   },
   "file_extension": ".py",
   "mimetype": "text/x-python",
   "name": "python",
   "nbconvert_exporter": "python",
   "pygments_lexer": "ipython3",
   "version": "3.8.6"
  }
 },
 "nbformat": 4,
 "nbformat_minor": 4
}
