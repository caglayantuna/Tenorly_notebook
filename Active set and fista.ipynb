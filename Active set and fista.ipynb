{
 "cells": [
  {
   "cell_type": "code",
   "execution_count": 1,
   "metadata": {},
   "outputs": [],
   "source": [
    "from tensorly.tenalg.proximal import active_set_nnls, fista\n",
    "import numpy as np\n",
    "import tensorly as tl\n",
    "from tensorly.decomposition._cp import initialize_cp\n",
    "from tensorly.metrics.regression import RMSE"
   ]
  },
  {
   "cell_type": "code",
   "execution_count": 2,
   "metadata": {},
   "outputs": [
    {
     "name": "stdout",
     "output_type": "stream",
     "text": [
      "(10, 3, 4)\n",
      "(120, 120)\n"
     ]
    }
   ],
   "source": [
    "array=np.random.randint(8, size=(10,3,4))\n",
    "a=tl.tensor(array,dtype=float)\n",
    "b=[]\n",
    "b.append(tl.tensor(np.random.randint(8, size=(10,10)),dtype=float))\n",
    "b.append(tl.tensor(np.random.randint(8, size=(3,3)),dtype=float))\n",
    "b.append(tl.tensor(np.random.randint(8, size=(4,4)),dtype=float))\n",
    "\n",
    "b_kr = tl.tenalg.kronecker(b)\n",
    "print(tl.shape(a))\n",
    "print(tl.shape(b_kr))"
   ]
  },
  {
   "cell_type": "markdown",
   "metadata": {},
   "source": [
    "# Fista"
   ]
  },
  {
   "cell_type": "code",
   "execution_count": 3,
   "metadata": {},
   "outputs": [
    {
     "name": "stdout",
     "output_type": "stream",
     "text": [
      "(10, 3, 4)\n"
     ]
    }
   ],
   "source": [
    "x_fista = fista(a, b)\n",
    "print(tl.shape(x_fista))"
   ]
  },
  {
   "cell_type": "markdown",
   "metadata": {},
   "source": [
    "# Active set"
   ]
  },
  {
   "cell_type": "code",
   "execution_count": 4,
   "metadata": {},
   "outputs": [
    {
     "name": "stdout",
     "output_type": "stream",
     "text": [
      "(10, 3, 4)\n"
     ]
    }
   ],
   "source": [
    "x = active_set_nnls(b_kr, tl.base.tensor_to_vec(a))\n",
    "x_active = tl.reshape(x, tl.shape(a))\n",
    "print(tl.shape(x_active))"
   ]
  },
  {
   "cell_type": "markdown",
   "metadata": {},
   "source": [
    "# Tl.solve"
   ]
  },
  {
   "cell_type": "code",
   "execution_count": 5,
   "metadata": {},
   "outputs": [
    {
     "name": "stdout",
     "output_type": "stream",
     "text": [
      "(10, 3, 4)\n"
     ]
    }
   ],
   "source": [
    "x = tl.solve(b_kr, tl.base.tensor_to_vec(a))\n",
    "x_solve = tl.reshape(x, tl.shape(a))\n",
    "print(tl.shape(x_solve))"
   ]
  },
  {
   "cell_type": "code",
   "execution_count": null,
   "metadata": {},
   "outputs": [],
   "source": []
  }
 ],
 "metadata": {
  "kernelspec": {
   "display_name": "Python 3",
   "language": "python",
   "name": "python3"
  },
  "language_info": {
   "codemirror_mode": {
    "name": "ipython",
    "version": 3
   },
   "file_extension": ".py",
   "mimetype": "text/x-python",
   "name": "python",
   "nbconvert_exporter": "python",
   "pygments_lexer": "ipython3",
   "version": "3.8.7"
  }
 },
 "nbformat": 4,
 "nbformat_minor": 4
}
