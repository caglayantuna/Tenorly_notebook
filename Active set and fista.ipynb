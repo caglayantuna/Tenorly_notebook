{
 "cells": [
  {
   "cell_type": "code",
   "execution_count": 1,
   "metadata": {},
   "outputs": [],
   "source": [
    "from tensorly.tenalg.proximal import active_set_nnls, fista\n",
    "import numpy as np\n",
    "import tensorly as tl\n",
    "from tensorly.decomposition._cp import initialize_cp\n",
    "from tensorly.metrics.regression import RMSE"
   ]
  },
  {
   "cell_type": "code",
   "execution_count": 2,
   "metadata": {},
   "outputs": [
    {
     "name": "stdout",
     "output_type": "stream",
     "text": [
      "(3, 3, 4)\n",
      "(36, 36)\n",
      "[[[4. 7. 0. 2.]\n",
      "  [1. 6. 0. 5.]\n",
      "  [1. 3. 7. 4.]]\n",
      "\n",
      " [[2. 1. 2. 1.]\n",
      "  [2. 4. 0. 3.]\n",
      "  [0. 2. 1. 6.]]\n",
      "\n",
      " [[3. 0. 5. 3.]\n",
      "  [3. 7. 2. 7.]\n",
      "  [7. 2. 3. 6.]]]\n"
     ]
    }
   ],
   "source": [
    "array=np.random.randint(8, size=(3,3,4))\n",
    "a=tl.tensor(array,dtype=float)\n",
    "b=[]\n",
    "b.append(tl.tensor(np.random.randint(8, size=(3,3)),dtype=float))\n",
    "b.append(tl.tensor(np.random.randint(8, size=(3,3)),dtype=float))\n",
    "b.append(tl.tensor(np.random.randint(8, size=(4,4)),dtype=float))\n",
    "\n",
    "b_kr = tl.tenalg.kronecker(b)\n",
    "print(tl.shape(a))\n",
    "print(tl.shape(b_kr))\n",
    "print(a)"
   ]
  },
  {
   "cell_type": "markdown",
   "metadata": {},
   "source": [
    "# Fista"
   ]
  },
  {
   "cell_type": "code",
   "execution_count": 13,
   "metadata": {},
   "outputs": [
    {
     "name": "stdout",
     "output_type": "stream",
     "text": [
      "(3, 3, 4)\n",
      "[[[-3.62691679e+153 -4.56965329e+153 -2.52705755e+153 -7.08361728e+153]\n",
      "  [-7.21455290e+153 -9.15240014e+153 -5.18505072e+153 -1.34601822e+154]\n",
      "  [ 2.09496999e+152 -2.77583524e+153 -1.27007556e+153 -2.36993480e+153]]\n",
      "\n",
      " [[-2.76274167e+153 -3.33885842e+153 -2.18662493e+153 -3.70547817e+153]\n",
      "  [-4.81843097e+153 -5.83972884e+153 -3.82332023e+153 -6.46821984e+153]\n",
      "  [-1.66288243e+153 -2.42230905e+153 -1.55813393e+153 -2.36993480e+153]]\n",
      "\n",
      " [[-1.76763093e+153 -2.29137343e+153 -1.08676568e+153 -4.07209792e+153]\n",
      "  [-3.99353654e+153 -5.17195716e+153 -2.67108674e+153 -8.22275721e+153]\n",
      "  [ 7.85613746e+152 -1.23079487e+153 -3.53526186e+152 -9.29642933e+152]]]\n"
     ]
    }
   ],
   "source": [
    "x_fista = fista(a, b)\n",
    "print(tl.shape(x_fista))\n",
    "print(tl.tenalg.multi_mode_dot(x_fista, b))"
   ]
  },
  {
   "cell_type": "markdown",
   "metadata": {},
   "source": [
    "# Active set"
   ]
  },
  {
   "cell_type": "code",
   "execution_count": 8,
   "metadata": {},
   "outputs": [
    {
     "name": "stdout",
     "output_type": "stream",
     "text": [
      "(3, 3, 4)\n",
      "[[[18.66666667 18.66666667  9.33333333 56.        ]\n",
      "  [32.66666667 32.66666667 16.33333333 98.        ]\n",
      "  [14.         14.          7.         42.        ]]\n",
      "\n",
      " [[ 2.66666667  2.66666667  1.33333333  8.        ]\n",
      "  [ 4.66666667  4.66666667  2.33333333 14.        ]\n",
      "  [ 2.          2.          1.          6.        ]]\n",
      "\n",
      " [[13.33333333 13.33333333  6.66666667 40.        ]\n",
      "  [23.33333333 23.33333333 11.66666667 70.        ]\n",
      "  [10.         10.          5.         30.        ]]]\n"
     ]
    }
   ],
   "source": [
    "x = active_set_nnls(b_kr, tl.base.tensor_to_vec(a))\n",
    "x_active = tl.reshape(x, tl.shape(a))\n",
    "print(tl.shape(x_active))\n",
    "print(tl.reshape(tl.dot(b_kr, x), tl.shape(a)))"
   ]
  },
  {
   "cell_type": "markdown",
   "metadata": {},
   "source": [
    "# Tl.solve"
   ]
  },
  {
   "cell_type": "code",
   "execution_count": 9,
   "metadata": {},
   "outputs": [
    {
     "name": "stdout",
     "output_type": "stream",
     "text": [
      "(3, 3, 4)\n",
      "[[[ 4.00000000e+00  7.00000000e+00  1.33226763e-14  2.00000000e+00]\n",
      "  [ 1.00000000e+00  6.00000000e+00  1.36002321e-15  5.00000000e+00]\n",
      "  [ 1.00000000e+00  3.00000000e+00  7.00000000e+00  4.00000000e+00]]\n",
      "\n",
      " [[ 2.00000000e+00  1.00000000e+00  2.00000000e+00  1.00000000e+00]\n",
      "  [ 2.00000000e+00  4.00000000e+00  4.57966998e-16  3.00000000e+00]\n",
      "  [-1.60982339e-15  2.00000000e+00  1.00000000e+00  6.00000000e+00]]\n",
      "\n",
      " [[ 3.00000000e+00  2.09277040e-14  5.00000000e+00  3.00000000e+00]\n",
      "  [ 3.00000000e+00  7.00000000e+00  2.00000000e+00  7.00000000e+00]\n",
      "  [ 7.00000000e+00  2.00000000e+00  3.00000000e+00  6.00000000e+00]]]\n"
     ]
    }
   ],
   "source": [
    "x = tl.solve(b_kr, tl.base.tensor_to_vec(a))\n",
    "x_solve = tl.reshape(x, tl.shape(a))\n",
    "print(tl.shape(x_solve))\n",
    "print(tl.reshape(tl.dot(b_kr,x), tl.shape(a)))"
   ]
  },
  {
   "cell_type": "code",
   "execution_count": null,
   "metadata": {},
   "outputs": [],
   "source": []
  }
 ],
 "metadata": {
  "kernelspec": {
   "display_name": "Python 3",
   "language": "python",
   "name": "python3"
  },
  "language_info": {
   "codemirror_mode": {
    "name": "ipython",
    "version": 3
   },
   "file_extension": ".py",
   "mimetype": "text/x-python",
   "name": "python",
   "nbconvert_exporter": "python",
   "pygments_lexer": "ipython3",
   "version": "3.8.7"
  }
 },
 "nbformat": 4,
 "nbformat_minor": 4
}
